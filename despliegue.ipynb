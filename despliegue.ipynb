{
 "cells": [
  {
   "cell_type": "markdown",
   "id": "8443d31f",
   "metadata": {},
   "source": [
    "# 03 - Despliegue del Servicio Web en Azure\n",
    "---\n",
    "Este notebook contiene el despliegue de un modelo de regresión como API usando **Flask**. "
   ]
  },
  {
   "cell_type": "markdown",
   "id": "e585faac",
   "metadata": {},
   "source": [
    "### Importamos Librerías"
   ]
  },
  {
   "cell_type": "code",
   "execution_count": 8,
   "id": "b94e497f",
   "metadata": {},
   "outputs": [],
   "source": [
    "from flask import Flask, request, jsonify\n",
    "from azureml.core import Workspace\n",
    "from azureml.core.model import Model\n",
    "from azureml.core.environment import Environment\n",
    "from azureml.core.conda_dependencies import CondaDependencies\n",
    "from azureml.core.model import InferenceConfig\n",
    "from azureml.core.webservice import AciWebservice\n",
    "import joblib\n",
    "import numpy as np\n",
    "import json"
   ]
  },
  {
   "cell_type": "markdown",
   "id": "6c3344f4",
   "metadata": {},
   "source": [
    "### Creación de Workspace y Registro de Modelo"
   ]
  },
  {
   "cell_type": "code",
   "execution_count": 9,
   "id": "c8f6745d",
   "metadata": {},
   "outputs": [
    {
     "name": "stderr",
     "output_type": "stream",
     "text": [
      "UserWarning: The resource group doesn't exist or was not provided. AzureML SDK is creating a resource group=salesservice in location=centralindia using subscription=f4f81290-9ab9-4ae8-8996-8eaf985e6f3c.\n"
     ]
    },
    {
     "name": "stdout",
     "output_type": "stream",
     "text": [
      "Deploying KeyVault with name saleskeyvault1a042d3e8e4.\n",
      "Deploying AppInsights with name salesinsightsa2d97326be4.\n",
      "Deployed AppInsights with name salesinsightsa2d97326be4. Took 9.15 seconds.\n",
      "Deploying StorageAccount with name salesstorageb2d2f0957d56.\n",
      "Deployed KeyVault with name saleskeyvault1a042d3e8e4. Took 26.27 seconds.\n",
      "Deploying Workspace with name sales.\n",
      "Deployed StorageAccount with name salesstorageb2d2f0957d56. Took 29.31 seconds.\n",
      "Deployed Workspace with name sales. Took 39.29 seconds.\n",
      "Registering model modifiedate_model\n"
     ]
    }
   ],
   "source": [
    "# Cargando el modelo\n",
    "id = open('id_confidential.json', 'r')\n",
    "mi = json.load(id)\n",
    "my_id = mi[\"azure_id\"]\n",
    "\n",
    "ws = Workspace.create(name=\"sales\",\n",
    "                      subscription_id = my_id,\n",
    "                      resource_group = \"salesservice\",\n",
    "                      location = \"centralindia\")\n",
    "\n",
    "registered_model = Model.register(model_path=\"model.pkl\",\n",
    "                                  model_name=\"modifiedate_model\",\n",
    "                                  workspace=ws)"
   ]
  },
  {
   "cell_type": "markdown",
   "id": "949f4173",
   "metadata": {},
   "source": [
    "### Creación del ScorePY"
   ]
  },
  {
   "cell_type": "code",
   "execution_count": 10,
   "id": "6bd3e0ac",
   "metadata": {},
   "outputs": [],
   "source": [
    "scorepy = \"\"\"import json\n",
    "import joblib\n",
    "import numpy as np\n",
    "import pandas as pd\n",
    "from azureml.core.model import Model\n",
    "\n",
    "def init():\n",
    "    global model\n",
    "    model_path = Model.get_model_path('modifiedate_model')\n",
    "    model = joblib.load(model_path)\n",
    "\n",
    "def run(raw_data):\n",
    "    try:\n",
    "        data = json.loads(raw_data)['datos'][0]\n",
    "        data = pd.DataFrame(data)\n",
    "\n",
    "        # Seleccionar columnas relevantes\n",
    "        data = data[['CompanyName', 'SalesPerson', 'ModifiedDate']]\n",
    "\n",
    "        # Convertir ModifiedDate a datetime y luego a rango de días\n",
    "        data['ModifiedDate'] = pd.to_datetime(data['ModifiedDate'])\n",
    "        data['Fecha'] = (data['ModifiedDate'] - data['ModifiedDate'].min()).dt.days\n",
    "\n",
    "        # Eliminar columna original\n",
    "        data.drop(columns=['ModifiedDate'], inplace=True)\n",
    "\n",
    "        # Realizar predicción usando solo la columna transformada\n",
    "        result = model.predict(data[['Fecha']])\n",
    "\n",
    "        return json.dumps({\"result\": result.tolist()})\n",
    "    except Exception as e:\n",
    "        return json.dumps({\"error\": str(e)})\n",
    "\"\"\"\n",
    "\n",
    "with open(\"score.py\", \"w\") as file_score:\n",
    "    file_score.write(scorepy)"
   ]
  },
  {
   "cell_type": "markdown",
   "id": "f4e46ba7",
   "metadata": {},
   "source": [
    "### Configuración de Inferencia"
   ]
  },
  {
   "cell_type": "code",
   "execution_count": 11,
   "id": "cf6e74da",
   "metadata": {},
   "outputs": [
    {
     "name": "stderr",
     "output_type": "stream",
     "text": [
      "C:\\Users\\blast\\AppData\\Local\\Temp\\ipykernel_13664\\2385395119.py:10: FutureWarning: azureml.core.model:\n",
      "To leverage new model deployment capabilities, AzureML recommends using CLI/SDK v2 to deploy models as online endpoint, \n",
      "please refer to respective documentations \n",
      "https://docs.microsoft.com/azure/machine-learning/how-to-deploy-managed-online-endpoints /\n",
      "https://docs.microsoft.com/azure/machine-learning/how-to-attach-kubernetes-anywhere \n",
      "For more information on migration, see https://aka.ms/acimoemigration \n",
      "To disable CLI/SDK v1 deprecation warning set AZUREML_LOG_DEPRECATION_WARNING_ENABLED to 'False'\n",
      "  service = Model.deploy(workspace=ws,\n"
     ]
    }
   ],
   "source": [
    "virtual_env = Environment(\"env_sales\")\n",
    "\n",
    "virtual_env.python.conda_dependencies = CondaDependencies.create(conda_packages=['pandas', 'scikit-learn'])\n",
    "\n",
    "inference_config = InferenceConfig(environment=virtual_env,\n",
    "                                   entry_script=\"score.py\")\n",
    "\n",
    "aci_config = AciWebservice.deploy_configuration(cpu_cores=2, memory_gb=8)\n",
    "\n",
    "service = Model.deploy(workspace=ws,\n",
    "                       name='service',\n",
    "                       models=[registered_model],\n",
    "                       inference_config=inference_config,\n",
    "                       deployment_config=aci_config,\n",
    "                       overwrite=True,\n",
    "                       )"
   ]
  },
  {
   "cell_type": "code",
   "execution_count": 12,
   "id": "c32146ef",
   "metadata": {},
   "outputs": [
    {
     "name": "stderr",
     "output_type": "stream",
     "text": [
      "Service deployment polling reached non-successful terminal state, current service state: Unhealthy\n",
      "Operation ID: 5b36bdc4-9c71-4c5d-b8c0-b1bc502c9dde\n",
      "More information can be found using '.get_logs()'\n",
      "Error:\n",
      "{\n",
      "  \"code\": \"AciDeploymentFailed\",\n",
      "  \"statusCode\": 400,\n",
      "  \"message\": \"Aci Deployment failed with exception: Your scoring file's init() function restarts frequently. You can address the error by increasing the value of memory_gb in deployment_config.\",\n",
      "  \"details\": [\n",
      "    {\n",
      "      \"code\": \"ScoreInitRestart\",\n",
      "      \"message\": \"Your scoring file's init() function restarts frequently. You can address the error by increasing the value of memory_gb in deployment_config.\"\n",
      "    }\n",
      "  ]\n",
      "}\n",
      "\n"
     ]
    },
    {
     "ename": "WebserviceException",
     "evalue": "WebserviceException:\n\tMessage: Service deployment polling reached non-successful terminal state, current service state: Unhealthy\nOperation ID: 5b36bdc4-9c71-4c5d-b8c0-b1bc502c9dde\nMore information can be found using '.get_logs()'\nError:\n{\n  \"code\": \"AciDeploymentFailed\",\n  \"statusCode\": 400,\n  \"message\": \"Aci Deployment failed with exception: Your scoring file's init() function restarts frequently. You can address the error by increasing the value of memory_gb in deployment_config.\",\n  \"details\": [\n    {\n      \"code\": \"ScoreInitRestart\",\n      \"message\": \"Your scoring file's init() function restarts frequently. You can address the error by increasing the value of memory_gb in deployment_config.\"\n    }\n  ]\n}\n\tInnerException None\n\tErrorResponse \n{\n    \"error\": {\n        \"message\": \"Service deployment polling reached non-successful terminal state, current service state: Unhealthy\\nOperation ID: 5b36bdc4-9c71-4c5d-b8c0-b1bc502c9dde\\nMore information can be found using '.get_logs()'\\nError:\\n{\\n  \\\"code\\\": \\\"AciDeploymentFailed\\\",\\n  \\\"statusCode\\\": 400,\\n  \\\"message\\\": \\\"Aci Deployment failed with exception: Your scoring file's init() function restarts frequently. You can address the error by increasing the value of memory_gb in deployment_config.\\\",\\n  \\\"details\\\": [\\n    {\\n      \\\"code\\\": \\\"ScoreInitRestart\\\",\\n      \\\"message\\\": \\\"Your scoring file's init() function restarts frequently. You can address the error by increasing the value of memory_gb in deployment_config.\\\"\\n    }\\n  ]\\n}\"\n    }\n}",
     "output_type": "error",
     "traceback": [
      "\u001b[1;31m---------------------------------------------------------------------------\u001b[0m",
      "\u001b[1;31mWebserviceException\u001b[0m                       Traceback (most recent call last)",
      "Cell \u001b[1;32mIn[12], line 1\u001b[0m\n\u001b[1;32m----> 1\u001b[0m \u001b[43mservice\u001b[49m\u001b[38;5;241;43m.\u001b[39;49m\u001b[43mwait_for_deployment\u001b[49m\u001b[43m(\u001b[49m\u001b[43m)\u001b[49m\n",
      "File \u001b[1;32mc:\\Users\\blast\\Documents\\Blas\\TEC\\Universidad TEC\\8vo Semestre\\Desarrollo de proyectos\\Computo en la Nube (Jesus A)\\Clase 4\\DESPLIEGUE-SERVICIO-SQL\\.venv\\lib\\site-packages\\azureml\\core\\webservice\\webservice.py:910\u001b[0m, in \u001b[0;36mWebservice.wait_for_deployment\u001b[1;34m(self, show_output, timeout_sec)\u001b[0m\n\u001b[0;32m    907\u001b[0m         \u001b[38;5;28;01mif\u001b[39;00m \u001b[38;5;129;01mnot\u001b[39;00m logs_response:\n\u001b[0;32m    908\u001b[0m             logs_response \u001b[38;5;241m=\u001b[39m \u001b[38;5;124m'\u001b[39m\u001b[38;5;124mCurrent sub-operation type not known, more logs unavailable.\u001b[39m\u001b[38;5;124m'\u001b[39m\n\u001b[1;32m--> 910\u001b[0m         \u001b[38;5;28;01mraise\u001b[39;00m WebserviceException(\u001b[38;5;124m'\u001b[39m\u001b[38;5;124mService deployment polling reached non-successful terminal state, current \u001b[39m\u001b[38;5;124m'\u001b[39m\n\u001b[0;32m    911\u001b[0m                                   \u001b[38;5;124m'\u001b[39m\u001b[38;5;124mservice state: \u001b[39m\u001b[38;5;132;01m{}\u001b[39;00m\u001b[38;5;130;01m\\n\u001b[39;00m\u001b[38;5;124m'\u001b[39m\n\u001b[0;32m    912\u001b[0m                                   \u001b[38;5;124m'\u001b[39m\u001b[38;5;124mOperation ID: \u001b[39m\u001b[38;5;132;01m{}\u001b[39;00m\u001b[38;5;130;01m\\n\u001b[39;00m\u001b[38;5;124m'\u001b[39m\n\u001b[0;32m    913\u001b[0m                                   \u001b[38;5;124m'\u001b[39m\u001b[38;5;132;01m{}\u001b[39;00m\u001b[38;5;130;01m\\n\u001b[39;00m\u001b[38;5;124m'\u001b[39m\n\u001b[0;32m    914\u001b[0m                                   \u001b[38;5;124m'\u001b[39m\u001b[38;5;124mError:\u001b[39m\u001b[38;5;130;01m\\n\u001b[39;00m\u001b[38;5;124m'\u001b[39m\n\u001b[0;32m    915\u001b[0m                                   \u001b[38;5;124m'\u001b[39m\u001b[38;5;132;01m{}\u001b[39;00m\u001b[38;5;124m'\u001b[39m\u001b[38;5;241m.\u001b[39mformat(\u001b[38;5;28mself\u001b[39m\u001b[38;5;241m.\u001b[39mstate, \u001b[38;5;28mself\u001b[39m\u001b[38;5;241m.\u001b[39m_operation_endpoint\u001b[38;5;241m.\u001b[39msplit(\u001b[38;5;124m'\u001b[39m\u001b[38;5;124m/\u001b[39m\u001b[38;5;124m'\u001b[39m)[\u001b[38;5;241m-\u001b[39m\u001b[38;5;241m1\u001b[39m],\n\u001b[0;32m    916\u001b[0m                                               logs_response, format_error_response), logger\u001b[38;5;241m=\u001b[39mmodule_logger)\n\u001b[0;32m    917\u001b[0m     \u001b[38;5;28mprint\u001b[39m(\u001b[38;5;124m'\u001b[39m\u001b[38;5;132;01m{}\u001b[39;00m\u001b[38;5;124m service creation operation finished, operation \u001b[39m\u001b[38;5;124m\"\u001b[39m\u001b[38;5;132;01m{}\u001b[39;00m\u001b[38;5;124m\"\u001b[39m\u001b[38;5;124m'\u001b[39m\u001b[38;5;241m.\u001b[39mformat(\u001b[38;5;28mself\u001b[39m\u001b[38;5;241m.\u001b[39m_webservice_type,\n\u001b[0;32m    918\u001b[0m                                                                           operation_state))\n\u001b[0;32m    919\u001b[0m \u001b[38;5;28;01mexcept\u001b[39;00m WebserviceException \u001b[38;5;28;01mas\u001b[39;00m e:\n",
      "\u001b[1;31mWebserviceException\u001b[0m: WebserviceException:\n\tMessage: Service deployment polling reached non-successful terminal state, current service state: Unhealthy\nOperation ID: 5b36bdc4-9c71-4c5d-b8c0-b1bc502c9dde\nMore information can be found using '.get_logs()'\nError:\n{\n  \"code\": \"AciDeploymentFailed\",\n  \"statusCode\": 400,\n  \"message\": \"Aci Deployment failed with exception: Your scoring file's init() function restarts frequently. You can address the error by increasing the value of memory_gb in deployment_config.\",\n  \"details\": [\n    {\n      \"code\": \"ScoreInitRestart\",\n      \"message\": \"Your scoring file's init() function restarts frequently. You can address the error by increasing the value of memory_gb in deployment_config.\"\n    }\n  ]\n}\n\tInnerException None\n\tErrorResponse \n{\n    \"error\": {\n        \"message\": \"Service deployment polling reached non-successful terminal state, current service state: Unhealthy\\nOperation ID: 5b36bdc4-9c71-4c5d-b8c0-b1bc502c9dde\\nMore information can be found using '.get_logs()'\\nError:\\n{\\n  \\\"code\\\": \\\"AciDeploymentFailed\\\",\\n  \\\"statusCode\\\": 400,\\n  \\\"message\\\": \\\"Aci Deployment failed with exception: Your scoring file's init() function restarts frequently. You can address the error by increasing the value of memory_gb in deployment_config.\\\",\\n  \\\"details\\\": [\\n    {\\n      \\\"code\\\": \\\"ScoreInitRestart\\\",\\n      \\\"message\\\": \\\"Your scoring file's init() function restarts frequently. You can address the error by increasing the value of memory_gb in deployment_config.\\\"\\n    }\\n  ]\\n}\"\n    }\n}"
     ]
    }
   ],
   "source": [
    "service.wait_for_deployment()"
   ]
  },
  {
   "cell_type": "markdown",
   "id": "3ef48404",
   "metadata": {},
   "source": [
    "### Creación del URI"
   ]
  },
  {
   "cell_type": "code",
   "execution_count": null,
   "id": "c7c61494",
   "metadata": {},
   "outputs": [],
   "source": [
    "scoring_uri = service.scoring_uri\n",
    "\n",
    "scoreuri = json.dumps({\"URI\": [scoring_uri]})\n",
    "file = open(\"uri.json\", \"w\")\n",
    "file.write(scoreuri)\n",
    "file.close()"
   ]
  },
  {
   "cell_type": "code",
   "execution_count": null,
   "id": "4438f5a9",
   "metadata": {},
   "outputs": [],
   "source": [
    "print(scoring_uri)"
   ]
  }
 ],
 "metadata": {
  "kernelspec": {
   "display_name": ".venv",
   "language": "python",
   "name": "python3"
  },
  "language_info": {
   "codemirror_mode": {
    "name": "ipython",
    "version": 3
   },
   "file_extension": ".py",
   "mimetype": "text/x-python",
   "name": "python",
   "nbconvert_exporter": "python",
   "pygments_lexer": "ipython3",
   "version": "3.10.12"
  }
 },
 "nbformat": 4,
 "nbformat_minor": 5
}
