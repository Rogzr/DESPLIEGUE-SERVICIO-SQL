{
 "cells": [
  {
   "cell_type": "markdown",
   "id": "8443d31f",
   "metadata": {},
   "source": [
    "# 03 - Despliegue del Servicio Web en Azure\n",
    "---\n",
    "Este notebook contiene el despliegue de un modelo de regresión como API usando **Flask**. "
   ]
  },
  {
   "cell_type": "markdown",
   "id": "e585faac",
   "metadata": {},
   "source": [
    "### Importamos Librerías"
   ]
  },
  {
   "cell_type": "code",
   "execution_count": 2,
   "id": "b94e497f",
   "metadata": {},
   "outputs": [],
   "source": [
    "from flask import Flask, request, jsonify\n",
    "from azureml.core import Workspace\n",
    "from azureml.core.model import Model\n",
    "from azureml.core.environment import Environment\n",
    "from azureml.core.conda_dependencies import CondaDependencies\n",
    "from azureml.core.model import InferenceConfig\n",
    "from azureml.core.webservice import AciWebservice\n",
    "import joblib\n",
    "import numpy as np\n",
    "import json"
   ]
  },
  {
   "cell_type": "markdown",
   "id": "6c3344f4",
   "metadata": {},
   "source": [
    "### Creación de Workspace y Registro de Modelo"
   ]
  },
  {
   "cell_type": "code",
   "execution_count": null,
   "id": "c8f6745d",
   "metadata": {},
   "outputs": [
    {
     "name": "stderr",
     "output_type": "stream",
     "text": [
      "UserWarning: The resource group doesn't exist or was not provided. AzureML SDK is creating a resource group=sls in location=centralindia using subscription=f4f81290-9ab9-4ae8-8996-8eaf985e6f3c.\n"
     ]
    },
    {
     "name": "stdout",
     "output_type": "stream",
     "text": [
      "Deploying KeyVault with name saleskeyvaultee9ec7afe73.\n",
      "Deploying AppInsights with name salesinsights1aab289be19.\n",
      "Deployed AppInsights with name salesinsights1aab289be19. Took 10.14 seconds.\n",
      "Deploying StorageAccount with name salesstorage3b669416ab4d.\n",
      "Deployed KeyVault with name saleskeyvaultee9ec7afe73. Took 26.41 seconds.\n",
      "Deployed StorageAccount with name salesstorage3b669416ab4d. Took 29.39 seconds.\n",
      "Deploying Workspace with name sales.\n",
      "Deployed Workspace with name sales. Took 45.79 seconds.\n"
     ]
    }
   ],
   "source": [
    "# Cargando el modelo\n",
    "id = open('id_confidential.json', 'r')\n",
    "mi = json.load(id)\n",
    "my_id = mi[\"azure_id\"]\n",
    "\n",
    "ws = Workspace.create(name=\"sales\",\n",
    "                      subscription_id = my_id,\n",
    "                      resource_group = \"sls\",\n",
    "                      location = \"centralindia\")\n",
    "\n",
    "registered_model = Model.register(model_path=\"model.pkl\",\n",
    "                                  model_name=\"modifiedate_model\",\n",
    "                                  workspace=ws)"
   ]
  },
  {
   "cell_type": "markdown",
   "id": "949f4173",
   "metadata": {},
   "source": [
    "### Creación del ScorePY"
   ]
  },
  {
   "cell_type": "code",
   "execution_count": null,
   "id": "6bd3e0ac",
   "metadata": {},
   "outputs": [],
   "source": [
    "scorepy = \"\"\"import json\n",
    "import joblib\n",
    "import numpy as np\n",
    "import pandas as pd\n",
    "from azureml.core.model import Model\n",
    "\n",
    "def init():\n",
    "    global model\n",
    "    model_path = Model.get_model_path('modifiedate_model')\n",
    "    model = joblib.load(model_path)\n",
    "\n",
    "def run(raw_data):\n",
    "    try:\n",
    "        data = json.loads(raw_data)['data'][0]\n",
    "        data = pd.DataFrame(data)\n",
    "\n",
    "        # Seleccionar columnas relevantes\n",
    "        data = data[['CompanyName', 'SalesPerson', 'ModifiedDate']]\n",
    "\n",
    "        # Convertir ModifiedDate a datetime y luego a rango de días\n",
    "        data['ModifiedDate'] = pd.to_datetime(data['ModifiedDate'])\n",
    "        data['Fecha'] = (data['ModifiedDate'] - data['ModifiedDate'].min()).dt.days\n",
    "\n",
    "        # Eliminar columna original\n",
    "        data.drop(columns=['ModifiedDate'], inplace=True)\n",
    "\n",
    "        # Realizar predicción usando solo la columna transformada\n",
    "        result = model.predict(data[['Fecha']])\n",
    "\n",
    "        return json.dumps({\"result\": result.tolist()})\n",
    "    except Exception as e:\n",
    "        return json.dumps({\"error\": str(e)})\n",
    "\n",
    "\"\"\"\n",
    "\n",
    "with open(\"score.py\", \"w\") as file_score:\n",
    "    file_score.write(scorepy)"
   ]
  },
  {
   "cell_type": "markdown",
   "id": "f4e46ba7",
   "metadata": {},
   "source": [
    "### Configuración de Inferencia"
   ]
  },
  {
   "cell_type": "code",
   "execution_count": null,
   "id": "cf6e74da",
   "metadata": {},
   "outputs": [],
   "source": [
    "virtual_env = Environment(\"env_sales\")\n",
    "\n",
    "virtual_env.python.conda_dependencies = CondaDependencies.create(conda_packages=['pandas', 'scikit-learn'])\n",
    "\n",
    "inference_config = InferenceConfig(environment=virtual_env,\n",
    "                                   entry_script=\"score.py\")\n",
    "\n",
    "aci_config = AciWebservice.deploy_configuration(cpu_cores=2, memory_gb=4)\n",
    "\n",
    "service = Model.deploy(workspace=ws,\n",
    "                       name='service',\n",
    "                       models=[registered_model],\n",
    "                       inference_config=inference_config,\n",
    "                       deployment_config=aci_config,\n",
    "                       overwrite=True,\n",
    "                       )"
   ]
  },
  {
   "cell_type": "code",
   "execution_count": null,
   "id": "c32146ef",
   "metadata": {},
   "outputs": [],
   "source": [
    "service.wait_for_deployment()"
   ]
  },
  {
   "cell_type": "markdown",
   "id": "3ef48404",
   "metadata": {},
   "source": [
    "### Creación del URI"
   ]
  },
  {
   "cell_type": "code",
   "execution_count": null,
   "id": "c7c61494",
   "metadata": {},
   "outputs": [],
   "source": [
    "scoring_uri = service.scoring_uri\n",
    "\n",
    "scoreuri = json.dumps({\"URI\": [scoring_uri]})\n",
    "file = open(\"uri.json\", \"w\")\n",
    "file.write(scoreuri)\n",
    "file.close()"
   ]
  },
  {
   "cell_type": "code",
   "execution_count": null,
   "id": "4438f5a9",
   "metadata": {},
   "outputs": [],
   "source": [
    "print(scoring_uri)"
   ]
  }
 ],
 "metadata": {
  "kernelspec": {
   "display_name": ".venv",
   "language": "python",
   "name": "python3"
  },
  "language_info": {
   "codemirror_mode": {
    "name": "ipython",
    "version": 3
   },
   "file_extension": ".py",
   "mimetype": "text/x-python",
   "name": "python",
   "nbconvert_exporter": "python",
   "pygments_lexer": "ipython3",
   "version": "3.10.12"
  }
 },
 "nbformat": 4,
 "nbformat_minor": 5
}
