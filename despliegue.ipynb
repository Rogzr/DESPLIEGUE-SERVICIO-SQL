{
 "cells": [
  {
   "cell_type": "markdown",
   "id": "8443d31f",
   "metadata": {},
   "source": [
    "# 03 - Despliegue del Servicio Web en Azure\n",
    "---\n",
    "Este notebook contiene el despliegue de un modelo de regresión como API usando **Flask**. "
   ]
  },
  {
   "cell_type": "markdown",
   "id": "e585faac",
   "metadata": {},
   "source": [
    "### Importamos Librerías"
   ]
  },
  {
   "cell_type": "code",
   "execution_count": null,
   "id": "b94e497f",
   "metadata": {
    "vscode": {
     "languageId": "plaintext"
    }
   },
   "outputs": [],
   "source": [
    "from flask import Flask, request, jsonify\n",
    "import joblib\n",
    "import numpy as np"
   ]
  },
  {
   "cell_type": "markdown",
   "id": "c8f6745d",
   "metadata": {},
   "source": []
  },
  {
   "cell_type": "code",
   "execution_count": null,
   "id": "6bd3e0ac",
   "metadata": {
    "vscode": {
     "languageId": "plaintext"
    }
   },
   "outputs": [],
   "source": []
  }
 ],
 "metadata": {
  "language_info": {
   "name": "python"
  }
 },
 "nbformat": 4,
 "nbformat_minor": 5
}
