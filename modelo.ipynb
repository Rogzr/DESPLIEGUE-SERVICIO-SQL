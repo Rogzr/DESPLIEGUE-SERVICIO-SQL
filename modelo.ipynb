{
 "cells": [
  {
   "cell_type": "markdown",
   "id": "1f59539a",
   "metadata": {},
   "source": [
    "## Modelo de aprendizaje automatico\n",
    "\n",
    "Se busca predecir con este modelo valores futuros de fecha de modificación (ModifiedDate).\n",
    "El modelo se compondrá en predicción de una regresión."
   ]
  },
  {
   "cell_type": "markdown",
   "id": "533465bc",
   "metadata": {},
   "source": [
    "### Carga y exploración de los datos"
   ]
  },
  {
   "cell_type": "code",
   "execution_count": null,
   "id": "5ab44d2d",
   "metadata": {
    "vscode": {
     "languageId": "plaintext"
    }
   },
   "outputs": [],
   "source": []
  },
  {
   "cell_type": "markdown",
   "id": "44197c0a",
   "metadata": {},
   "source": [
    "### Modelo y entrenamiento"
   ]
  },
  {
   "cell_type": "code",
   "execution_count": null,
   "id": "affa2838",
   "metadata": {
    "vscode": {
     "languageId": "plaintext"
    }
   },
   "outputs": [],
   "source": []
  },
  {
   "cell_type": "markdown",
   "id": "9a8a6cf2",
   "metadata": {},
   "source": [
    "### Test del modelo"
   ]
  },
  {
   "cell_type": "markdown",
   "id": "57c16e9c",
   "metadata": {},
   "source": [
    "### Almacenamiento del modelo"
   ]
  }
 ],
 "metadata": {
  "language_info": {
   "name": "python"
  }
 },
 "nbformat": 4,
 "nbformat_minor": 5
}
