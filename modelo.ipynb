{
 "cells": [
  {
   "cell_type": "markdown",
   "id": "1f59539a",
   "metadata": {},
   "source": [
    "## Modelo de aprendizaje automatico\n",
    "\n",
    "Se busca predecir con este modelo valores futuros de fecha de modificación (ModifiedDate).\n",
    "El modelo se compondrá en predicción de una regresión."
   ]
  },
  {
   "cell_type": "markdown",
   "id": "533465bc",
   "metadata": {},
   "source": [
    "### Carga y exploración de los datos"
   ]
  },
  {
   "cell_type": "code",
   "execution_count": 2,
   "id": "5ab44d2d",
   "metadata": {},
   "outputs": [
    {
     "data": {
      "application/vnd.microsoft.datawrangler.viewer.v0+json": {
       "columns": [
        {
         "name": "index",
         "rawType": "int64",
         "type": "integer"
        },
        {
         "name": "CompanyName",
         "rawType": "object",
         "type": "string"
        },
        {
         "name": "SalesPerson",
         "rawType": "object",
         "type": "string"
        },
        {
         "name": "Fecha",
         "rawType": "int64",
         "type": "integer"
        }
       ],
       "conversionMethod": "pd.DataFrame",
       "ref": "5582d32b-64f1-40d2-8de5-99d844b13efe",
       "rows": [
        [
         "0",
         "A Bike Store",
         "adventure-works\\pamela0",
         "31"
        ],
        [
         "1",
         "Progressive Sports",
         "adventure-works\\david8",
         "396"
        ],
        [
         "2",
         "Advanced Bike Components",
         "adventure-works\\jillian0",
         "62"
        ],
        [
         "3",
         "Modular Cycle Systems",
         "adventure-works\\jillian0",
         "365"
        ],
        [
         "4",
         "Metropolitan Sports Supply",
         "adventure-works\\shu0",
         "427"
        ]
       ],
       "shape": {
        "columns": 3,
        "rows": 5
       }
      },
      "text/html": [
       "<div>\n",
       "<style scoped>\n",
       "    .dataframe tbody tr th:only-of-type {\n",
       "        vertical-align: middle;\n",
       "    }\n",
       "\n",
       "    .dataframe tbody tr th {\n",
       "        vertical-align: top;\n",
       "    }\n",
       "\n",
       "    .dataframe thead th {\n",
       "        text-align: right;\n",
       "    }\n",
       "</style>\n",
       "<table border=\"1\" class=\"dataframe\">\n",
       "  <thead>\n",
       "    <tr style=\"text-align: right;\">\n",
       "      <th></th>\n",
       "      <th>CompanyName</th>\n",
       "      <th>SalesPerson</th>\n",
       "      <th>Fecha</th>\n",
       "    </tr>\n",
       "  </thead>\n",
       "  <tbody>\n",
       "    <tr>\n",
       "      <th>0</th>\n",
       "      <td>A Bike Store</td>\n",
       "      <td>adventure-works\\pamela0</td>\n",
       "      <td>31</td>\n",
       "    </tr>\n",
       "    <tr>\n",
       "      <th>1</th>\n",
       "      <td>Progressive Sports</td>\n",
       "      <td>adventure-works\\david8</td>\n",
       "      <td>396</td>\n",
       "    </tr>\n",
       "    <tr>\n",
       "      <th>2</th>\n",
       "      <td>Advanced Bike Components</td>\n",
       "      <td>adventure-works\\jillian0</td>\n",
       "      <td>62</td>\n",
       "    </tr>\n",
       "    <tr>\n",
       "      <th>3</th>\n",
       "      <td>Modular Cycle Systems</td>\n",
       "      <td>adventure-works\\jillian0</td>\n",
       "      <td>365</td>\n",
       "    </tr>\n",
       "    <tr>\n",
       "      <th>4</th>\n",
       "      <td>Metropolitan Sports Supply</td>\n",
       "      <td>adventure-works\\shu0</td>\n",
       "      <td>427</td>\n",
       "    </tr>\n",
       "  </tbody>\n",
       "</table>\n",
       "</div>"
      ],
      "text/plain": [
       "                  CompanyName               SalesPerson  Fecha\n",
       "0                A Bike Store   adventure-works\\pamela0     31\n",
       "1          Progressive Sports    adventure-works\\david8    396\n",
       "2    Advanced Bike Components  adventure-works\\jillian0     62\n",
       "3       Modular Cycle Systems  adventure-works\\jillian0    365\n",
       "4  Metropolitan Sports Supply      adventure-works\\shu0    427"
      ]
     },
     "execution_count": 2,
     "metadata": {},
     "output_type": "execute_result"
    }
   ],
   "source": [
    "import pandas as pd\n",
    "from sklearn.model_selection import train_test_split\n",
    "from sklearn.compose import ColumnTransformer\n",
    "from sklearn.preprocessing import OneHotEncoder\n",
    "from sklearn.pipeline import Pipeline\n",
    "from sklearn.ensemble import RandomForestRegressor\n",
    "from sklearn.metrics import mean_absolute_error, mean_squared_error\n",
    "\n",
    "# 1. Carga de datos\n",
    "df = pd.read_csv('datos.csv')\n",
    "df.head()"
   ]
  },
  {
   "cell_type": "markdown",
   "id": "44197c0a",
   "metadata": {},
   "source": [
    "### Modelo y entrenamiento"
   ]
  },
  {
   "cell_type": "code",
   "execution_count": 5,
   "id": "affa2838",
   "metadata": {},
   "outputs": [
    {
     "name": "stdout",
     "output_type": "stream",
     "text": [
      "MAE:  172.83 días\n"
     ]
    }
   ],
   "source": [
    "# 2. Definir X (predictoras) e y (objetivo)\n",
    "X = df[['CompanyName', 'SalesPerson']]\n",
    "y = df['Fecha']\n",
    "\n",
    "# 3. División entrenamiento/prueba\n",
    "X_train, X_test, y_train, y_test = train_test_split(\n",
    "    X, y, test_size=0.3, random_state=42, shuffle=True\n",
    ")\n",
    "\n",
    "# 4. Preprocesamiento: One-Hot Encoding para ambas columnas categóricas\n",
    "preprocessor = ColumnTransformer([\n",
    "    ('cat', OneHotEncoder(handle_unknown='ignore'),\n",
    "     ['CompanyName', 'SalesPerson'])\n",
    "])\n",
    "\n",
    "# 5. Construcción del pipeline\n",
    "pipeline = Pipeline([\n",
    "    ('preprocessor', preprocessor),\n",
    "    ('regressor', RandomForestRegressor(\n",
    "        n_estimators=100,\n",
    "        max_depth=None,\n",
    "        random_state=42,\n",
    "        n_jobs=-1\n",
    "    ))\n",
    "])\n",
    "\n",
    "# 6. Entrenamiento\n",
    "pipeline.fit(X_train, y_train)\n",
    "\n",
    "# 7. Predicción y evaluación\n",
    "y_pred = pipeline.predict(X_test)\n",
    "mae  = mean_absolute_error(y_test, y_pred)\n",
    "\n",
    "print(f\"MAE:  {mae:.2f} días\")\n",
    "#print(f\"RMSE: {rmse:.2f} días\")\n"
   ]
  },
  {
   "cell_type": "code",
   "execution_count": 6,
   "id": "71ac4a47",
   "metadata": {},
   "outputs": [
    {
     "name": "stdout",
     "output_type": "stream",
     "text": [
      "R^2: 0.437\n"
     ]
    },
    {
     "data": {
      "image/png": "[encoded data removed]",
      "text/plain": [
       "<Figure size 640x480 with 1 Axes>"
      ]
     },
     "metadata": {},
     "output_type": "display_data"
    }
   ],
   "source": [
    "import matplotlib.pyplot as plt\n",
    "from sklearn.metrics import r2_score\n",
    "\n",
    "# Asumiendo que ya tienes X_test, y_test y el pipeline entrenado\n",
    "y_pred = pipeline.predict(X_test)\n",
    "\n",
    "# Calcular el coeficiente de determinación R^2\n",
    "r2 = r2_score(y_test, y_pred)\n",
    "print(f\"R^2: {r2:.3f}\")\n",
    "\n",
    "# Gráfica: valores reales vs valores predichos\n",
    "plt.figure()\n",
    "plt.scatter(y_test, y_pred)\n",
    "min_val = min(y_test.min(), y_pred.min())\n",
    "max_val = max(y_test.max(), y_pred.max())\n",
    "plt.plot([min_val, max_val], [min_val, max_val])\n",
    "plt.xlabel('Fecha real (días)')\n",
    "plt.ylabel('Fecha predicha (días)')\n",
    "plt.title('Actual vs Predicted Fecha')\n",
    "plt.show()\n"
   ]
  },
  {
   "cell_type": "markdown",
   "id": "57c16e9c",
   "metadata": {},
   "source": [
    "### Almacenamiento del modelo"
   ]
  },
  {
   "cell_type": "code",
   "execution_count": 9,
   "id": "db870523",
   "metadata": {},
   "outputs": [],
   "source": [
    "import pickle\n",
    "\n",
    "# 1. Guardar el pipeline en 'modelo.pkl'\n",
    "with open('modelo.pkl', 'wb') as f:\n",
    "    pickle.dump(pipeline, f)\n",
    "\n",
    "# 2. (Más adelante) Cargar el pipeline\n",
    "with open('modelo.pkl', 'rb') as f:\n",
    "    pipeline_cargado = pickle.load(f)\n"
   ]
  }
 ],
 "metadata": {
  "kernelspec": {
   "display_name": ".venv",
   "language": "python",
   "name": "python3"
  },
  "language_info": {
   "codemirror_mode": {
    "name": "ipython",
    "version": 3
   },
   "file_extension": ".py",
   "mimetype": "text/x-python",
   "name": "python",
   "nbconvert_exporter": "python",
   "pygments_lexer": "ipython3",
   "version": "3.12.9"
  }
 },
 "nbformat": 4,
 "nbformat_minor": 5
}
