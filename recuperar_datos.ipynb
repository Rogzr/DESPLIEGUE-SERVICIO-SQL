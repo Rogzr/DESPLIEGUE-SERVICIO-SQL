{
 "cells": [
  {
   "cell_type": "markdown",
   "id": "18c6e8ad",
   "metadata": {},
   "source": [
    "## Conexión a Azure"
   ]
  },
  {
   "cell_type": "code",
   "execution_count": null,
   "id": "d994d968",
   "metadata": {},
   "outputs": [],
   "source": [
    "import json\n",
    "\n",
    "id = open('my_psswd.json', 'r')\n",
    "mi = json.load(id)\n",
    "YOUR_PASSWORD = mi[\"pswd\"]"
   ]
  },
  {
   "cell_type": "code",
   "execution_count": null,
   "id": "86f781ca",
   "metadata": {},
   "outputs": [
    {
     "name": "stdout",
     "output_type": "stream",
     "text": [
      "Connected to the Azure SQL Database successfully!\n"
     ]
    }
   ],
   "source": [
    "import pyodbc\n",
    "\n",
    "# Establecer los parámetros de conexión\n",
    "server = 'rar-server.database.windows.net'\n",
    "database = 'RARdb'\n",
    "username = 'rar'\n",
    "password = YOUR_PASSWORD\n",
    "\n",
    "# definir la conexión para SQL Server (Azure)\n",
    "conn_str = (\n",
    "    f'DRIVER={{ODBC Driver 18 for SQL Server}};'\n",
    "    f'SERVER={server};'\n",
    "    f'DATABASE={database};'\n",
    "    f'UID={username};'\n",
    "    f'PWD={password}'\n",
    ")\n",
    "\n",
    "# Establecer la conexión a la base de datos\n",
    "try:\n",
    "    conn = pyodbc.connect(conn_str)\n",
    "    print(\"Connected to the Azure SQL Database successfully!\")\n",
    "\n",
    "except pyodbc.Error as e:\n",
    "    print(f\"Error connecting to the database: {e}\")"
   ]
  },
  {
   "cell_type": "markdown",
   "id": "86619baa",
   "metadata": {},
   "source": [
    "## Recuperación de datos"
   ]
  },
  {
   "cell_type": "code",
   "execution_count": 35,
   "id": "f803129c",
   "metadata": {},
   "outputs": [
    {
     "name": "stderr",
     "output_type": "stream",
     "text": [
      "C:\\Users\\rodri\\AppData\\Local\\Temp\\ipykernel_23268\\1966378067.py:5: UserWarning: pandas only supports SQLAlchemy connectable (engine/connection) or database string URI or sqlite3 DBAPI2 connection. Other DBAPI2 objects are not tested. Please consider using SQLAlchemy.\n",
      "  datos = pd.read_sql(query_2, conn)\n"
     ]
    },
    {
     "data": {
      "application/vnd.microsoft.datawrangler.viewer.v0+json": {
       "columns": [
        {
         "name": "index",
         "rawType": "int64",
         "type": "integer"
        },
        {
         "name": "CustomerID",
         "rawType": "int64",
         "type": "integer"
        },
        {
         "name": "NameStyle",
         "rawType": "bool",
         "type": "boolean"
        },
        {
         "name": "Title",
         "rawType": "object",
         "type": "string"
        },
        {
         "name": "FirstName",
         "rawType": "object",
         "type": "string"
        },
        {
         "name": "MiddleName",
         "rawType": "object",
         "type": "unknown"
        },
        {
         "name": "LastName",
         "rawType": "object",
         "type": "string"
        },
        {
         "name": "Suffix",
         "rawType": "object",
         "type": "unknown"
        },
        {
         "name": "CompanyName",
         "rawType": "object",
         "type": "string"
        },
        {
         "name": "SalesPerson",
         "rawType": "object",
         "type": "string"
        },
        {
         "name": "EmailAddress",
         "rawType": "object",
         "type": "string"
        },
        {
         "name": "Phone",
         "rawType": "object",
         "type": "string"
        },
        {
         "name": "PasswordHash",
         "rawType": "object",
         "type": "string"
        },
        {
         "name": "PasswordSalt",
         "rawType": "object",
         "type": "string"
        },
        {
         "name": "rowguid",
         "rawType": "object",
         "type": "string"
        },
        {
         "name": "ModifiedDate",
         "rawType": "datetime64[ns]",
         "type": "datetime"
        }
       ],
       "conversionMethod": "pd.DataFrame",
       "ref": "b5f5c410-cbbe-49f1-b19f-efe1f0baf433",
       "rows": [
        [
         "0",
         "1",
         "False",
         "Mr.",
         "Orlando",
         "N.",
         "Gee",
         null,
         "A Bike Store",
         "adventure-works\\pamela0",
         "orlando0@adventure-works.com",
         "245-555-0173",
         "L/Rlwxzp4w7RWmEgXX+/A7cXaePEPcp+KwQhl2fJL7w=",
         "1KjXYs4=",
         "3F5AE95E-B87D-4AED-95B4-C3797AFCB74F",
         "2005-08-01 00:00:00"
        ],
        [
         "1",
         "2",
         "False",
         "Mr.",
         "Keith",
         null,
         "Harris",
         null,
         "Progressive Sports",
         "adventure-works\\david8",
         "keith0@adventure-works.com",
         "170-555-0127",
         "YPdtRdvqeAhj6wyxEsFdshBDNXxkCXn+CRgbvJItknw=",
         "fs1ZGhY=",
         "E552F657-A9AF-4A7D-A645-C429D6E02491",
         "2006-08-01 00:00:00"
        ],
        [
         "2",
         "3",
         "False",
         "Ms.",
         "Donna",
         "F.",
         "Carreras",
         null,
         "Advanced Bike Components",
         "adventure-works\\jillian0",
         "donna0@adventure-works.com",
         "279-555-0130",
         "LNoK27abGQo48gGue3EBV/UrlYSToV0/s87dCRV7uJk=",
         "YTNH5Rw=",
         "130774B1-DB21-4EF3-98C8-C104BCD6ED6D",
         "2005-09-01 00:00:00"
        ],
        [
         "3",
         "4",
         "False",
         "Ms.",
         "Janet",
         "M.",
         "Gates",
         null,
         "Modular Cycle Systems",
         "adventure-works\\jillian0",
         "janet1@adventure-works.com",
         "710-555-0173",
         "ElzTpSNbUW1Ut+L5cWlfR7MF6nBZia8WpmGaQPjLOJA=",
         "nm7D5e4=",
         "FF862851-1DAA-4044-BE7C-3E85583C054D",
         "2006-07-01 00:00:00"
        ],
        [
         "4",
         "5",
         "False",
         "Mr.",
         "Lucy",
         null,
         "Harrington",
         null,
         "Metropolitan Sports Supply",
         "adventure-works\\shu0",
         "lucy0@adventure-works.com",
         "828-555-0186",
         "KJqV15wsX3PG8TS5GSddp6LFFVdd3CoRftZM/tP0+R4=",
         "cNFKU4w=",
         "83905BDC-6F5E-4F71-B162-C98DA069F38A",
         "2006-09-01 00:00:00"
        ]
       ],
       "shape": {
        "columns": 15,
        "rows": 5
       }
      },
      "text/html": [
       "<div>\n",
       "<style scoped>\n",
       "    .dataframe tbody tr th:only-of-type {\n",
       "        vertical-align: middle;\n",
       "    }\n",
       "\n",
       "    .dataframe tbody tr th {\n",
       "        vertical-align: top;\n",
       "    }\n",
       "\n",
       "    .dataframe thead th {\n",
       "        text-align: right;\n",
       "    }\n",
       "</style>\n",
       "<table border=\"1\" class=\"dataframe\">\n",
       "  <thead>\n",
       "    <tr style=\"text-align: right;\">\n",
       "      <th></th>\n",
       "      <th>CustomerID</th>\n",
       "      <th>NameStyle</th>\n",
       "      <th>Title</th>\n",
       "      <th>FirstName</th>\n",
       "      <th>MiddleName</th>\n",
       "      <th>LastName</th>\n",
       "      <th>Suffix</th>\n",
       "      <th>CompanyName</th>\n",
       "      <th>SalesPerson</th>\n",
       "      <th>EmailAddress</th>\n",
       "      <th>Phone</th>\n",
       "      <th>PasswordHash</th>\n",
       "      <th>PasswordSalt</th>\n",
       "      <th>rowguid</th>\n",
       "      <th>ModifiedDate</th>\n",
       "    </tr>\n",
       "  </thead>\n",
       "  <tbody>\n",
       "    <tr>\n",
       "      <th>0</th>\n",
       "      <td>1</td>\n",
       "      <td>False</td>\n",
       "      <td>Mr.</td>\n",
       "      <td>Orlando</td>\n",
       "      <td>N.</td>\n",
       "      <td>Gee</td>\n",
       "      <td>None</td>\n",
       "      <td>A Bike Store</td>\n",
       "      <td>adventure-works\\pamela0</td>\n",
       "      <td>orlando0@adventure-works.com</td>\n",
       "      <td>245-555-0173</td>\n",
       "      <td>L/Rlwxzp4w7RWmEgXX+/A7cXaePEPcp+KwQhl2fJL7w=</td>\n",
       "      <td>1KjXYs4=</td>\n",
       "      <td>3F5AE95E-B87D-4AED-95B4-C3797AFCB74F</td>\n",
       "      <td>2005-08-01</td>\n",
       "    </tr>\n",
       "    <tr>\n",
       "      <th>1</th>\n",
       "      <td>2</td>\n",
       "      <td>False</td>\n",
       "      <td>Mr.</td>\n",
       "      <td>Keith</td>\n",
       "      <td>None</td>\n",
       "      <td>Harris</td>\n",
       "      <td>None</td>\n",
       "      <td>Progressive Sports</td>\n",
       "      <td>adventure-works\\david8</td>\n",
       "      <td>keith0@adventure-works.com</td>\n",
       "      <td>170-555-0127</td>\n",
       "      <td>YPdtRdvqeAhj6wyxEsFdshBDNXxkCXn+CRgbvJItknw=</td>\n",
       "      <td>fs1ZGhY=</td>\n",
       "      <td>E552F657-A9AF-4A7D-A645-C429D6E02491</td>\n",
       "      <td>2006-08-01</td>\n",
       "    </tr>\n",
       "    <tr>\n",
       "      <th>2</th>\n",
       "      <td>3</td>\n",
       "      <td>False</td>\n",
       "      <td>Ms.</td>\n",
       "      <td>Donna</td>\n",
       "      <td>F.</td>\n",
       "      <td>Carreras</td>\n",
       "      <td>None</td>\n",
       "      <td>Advanced Bike Components</td>\n",
       "      <td>adventure-works\\jillian0</td>\n",
       "      <td>donna0@adventure-works.com</td>\n",
       "      <td>279-555-0130</td>\n",
       "      <td>LNoK27abGQo48gGue3EBV/UrlYSToV0/s87dCRV7uJk=</td>\n",
       "      <td>YTNH5Rw=</td>\n",
       "      <td>130774B1-DB21-4EF3-98C8-C104BCD6ED6D</td>\n",
       "      <td>2005-09-01</td>\n",
       "    </tr>\n",
       "    <tr>\n",
       "      <th>3</th>\n",
       "      <td>4</td>\n",
       "      <td>False</td>\n",
       "      <td>Ms.</td>\n",
       "      <td>Janet</td>\n",
       "      <td>M.</td>\n",
       "      <td>Gates</td>\n",
       "      <td>None</td>\n",
       "      <td>Modular Cycle Systems</td>\n",
       "      <td>adventure-works\\jillian0</td>\n",
       "      <td>janet1@adventure-works.com</td>\n",
       "      <td>710-555-0173</td>\n",
       "      <td>ElzTpSNbUW1Ut+L5cWlfR7MF6nBZia8WpmGaQPjLOJA=</td>\n",
       "      <td>nm7D5e4=</td>\n",
       "      <td>FF862851-1DAA-4044-BE7C-3E85583C054D</td>\n",
       "      <td>2006-07-01</td>\n",
       "    </tr>\n",
       "    <tr>\n",
       "      <th>4</th>\n",
       "      <td>5</td>\n",
       "      <td>False</td>\n",
       "      <td>Mr.</td>\n",
       "      <td>Lucy</td>\n",
       "      <td>None</td>\n",
       "      <td>Harrington</td>\n",
       "      <td>None</td>\n",
       "      <td>Metropolitan Sports Supply</td>\n",
       "      <td>adventure-works\\shu0</td>\n",
       "      <td>lucy0@adventure-works.com</td>\n",
       "      <td>828-555-0186</td>\n",
       "      <td>KJqV15wsX3PG8TS5GSddp6LFFVdd3CoRftZM/tP0+R4=</td>\n",
       "      <td>cNFKU4w=</td>\n",
       "      <td>83905BDC-6F5E-4F71-B162-C98DA069F38A</td>\n",
       "      <td>2006-09-01</td>\n",
       "    </tr>\n",
       "  </tbody>\n",
       "</table>\n",
       "</div>"
      ],
      "text/plain": [
       "   CustomerID  NameStyle Title FirstName MiddleName    LastName Suffix  \\\n",
       "0           1      False   Mr.   Orlando         N.         Gee   None   \n",
       "1           2      False   Mr.     Keith       None      Harris   None   \n",
       "2           3      False   Ms.     Donna         F.    Carreras   None   \n",
       "3           4      False   Ms.     Janet         M.       Gates   None   \n",
       "4           5      False   Mr.      Lucy       None  Harrington   None   \n",
       "\n",
       "                  CompanyName               SalesPerson  \\\n",
       "0                A Bike Store   adventure-works\\pamela0   \n",
       "1          Progressive Sports    adventure-works\\david8   \n",
       "2    Advanced Bike Components  adventure-works\\jillian0   \n",
       "3       Modular Cycle Systems  adventure-works\\jillian0   \n",
       "4  Metropolitan Sports Supply      adventure-works\\shu0   \n",
       "\n",
       "                   EmailAddress         Phone  \\\n",
       "0  orlando0@adventure-works.com  245-555-0173   \n",
       "1    keith0@adventure-works.com  170-555-0127   \n",
       "2    donna0@adventure-works.com  279-555-0130   \n",
       "3    janet1@adventure-works.com  710-555-0173   \n",
       "4     lucy0@adventure-works.com  828-555-0186   \n",
       "\n",
       "                                   PasswordHash PasswordSalt  \\\n",
       "0  L/Rlwxzp4w7RWmEgXX+/A7cXaePEPcp+KwQhl2fJL7w=     1KjXYs4=   \n",
       "1  YPdtRdvqeAhj6wyxEsFdshBDNXxkCXn+CRgbvJItknw=     fs1ZGhY=   \n",
       "2  LNoK27abGQo48gGue3EBV/UrlYSToV0/s87dCRV7uJk=     YTNH5Rw=   \n",
       "3  ElzTpSNbUW1Ut+L5cWlfR7MF6nBZia8WpmGaQPjLOJA=     nm7D5e4=   \n",
       "4  KJqV15wsX3PG8TS5GSddp6LFFVdd3CoRftZM/tP0+R4=     cNFKU4w=   \n",
       "\n",
       "                                rowguid ModifiedDate  \n",
       "0  3F5AE95E-B87D-4AED-95B4-C3797AFCB74F   2005-08-01  \n",
       "1  E552F657-A9AF-4A7D-A645-C429D6E02491   2006-08-01  \n",
       "2  130774B1-DB21-4EF3-98C8-C104BCD6ED6D   2005-09-01  \n",
       "3  FF862851-1DAA-4044-BE7C-3E85583C054D   2006-07-01  \n",
       "4  83905BDC-6F5E-4F71-B162-C98DA069F38A   2006-09-01  "
      ]
     },
     "execution_count": 35,
     "metadata": {},
     "output_type": "execute_result"
    }
   ],
   "source": [
    "import pandas as pd\n",
    "\n",
    "# Realizar una consulta SQL y cargar los datos\n",
    "query_2 = \"SELECT * FROM SalesLT.customer\"\n",
    "datos = pd.read_sql(query_2, conn)\n",
    "datos.head()"
   ]
  },
  {
   "cell_type": "code",
   "execution_count": 36,
   "id": "aa4fe3a2",
   "metadata": {},
   "outputs": [],
   "source": [
    "# limpiar la base de datos seleccionando las columnas que se van a usar (fecha)\n",
    "datos = datos[['CustomerID', 'CompanyName', 'ModifiedDate']]"
   ]
  },
  {
   "cell_type": "code",
   "execution_count": 34,
   "id": "1542f7c4",
   "metadata": {},
   "outputs": [
    {
     "data": {
      "application/vnd.microsoft.datawrangler.viewer.v0+json": {
       "columns": [
        {
         "name": "index",
         "rawType": "int64",
         "type": "integer"
        },
        {
         "name": "CustomerID",
         "rawType": "int64",
         "type": "integer"
        },
        {
         "name": "FirstName",
         "rawType": "object",
         "type": "string"
        },
        {
         "name": "LastName",
         "rawType": "object",
         "type": "string"
        },
        {
         "name": "EmailAddress",
         "rawType": "object",
         "type": "string"
        },
        {
         "name": "Phone",
         "rawType": "object",
         "type": "string"
        },
        {
         "name": "ModifiedDate",
         "rawType": "datetime64[ns]",
         "type": "datetime"
        }
       ],
       "conversionMethod": "pd.DataFrame",
       "ref": "343112b2-f0b9-4197-8062-2095fe0db1db",
       "rows": [
        [
         "0",
         "1",
         "Orlando",
         "Gee",
         "orlando0@adventure-works.com",
         "245-555-0173",
         "2005-08-01 00:00:00"
        ],
        [
         "1",
         "2",
         "Keith",
         "Harris",
         "keith0@adventure-works.com",
         "170-555-0127",
         "2006-08-01 00:00:00"
        ],
        [
         "2",
         "3",
         "Donna",
         "Carreras",
         "donna0@adventure-works.com",
         "279-555-0130",
         "2005-09-01 00:00:00"
        ],
        [
         "3",
         "4",
         "Janet",
         "Gates",
         "janet1@adventure-works.com",
         "710-555-0173",
         "2006-07-01 00:00:00"
        ],
        [
         "4",
         "5",
         "Lucy",
         "Harrington",
         "lucy0@adventure-works.com",
         "828-555-0186",
         "2006-09-01 00:00:00"
        ],
        [
         "5",
         "6",
         "Rosmarie",
         "Carroll",
         "rosmarie0@adventure-works.com",
         "244-555-0112",
         "2007-09-01 00:00:00"
        ],
        [
         "6",
         "7",
         "Dominic",
         "Gash",
         "dominic0@adventure-works.com",
         "192-555-0173",
         "2006-07-01 00:00:00"
        ],
        [
         "7",
         "10",
         "Kathleen",
         "Garza",
         "kathleen0@adventure-works.com",
         "150-555-0127",
         "2006-09-01 00:00:00"
        ],
        [
         "8",
         "11",
         "Katherine",
         "Harding",
         "katherine0@adventure-works.com",
         "926-555-0159",
         "2005-08-01 00:00:00"
        ],
        [
         "9",
         "12",
         "Johnny",
         "Caprio",
         "johnny0@adventure-works.com",
         "112-555-0191",
         "2006-08-01 00:00:00"
        ],
        [
         "10",
         "16",
         "Christopher",
         "Beck",
         "christopher1@adventure-works.com",
         "1 (11) 500 555-0132",
         "2006-09-01 00:00:00"
        ],
        [
         "11",
         "18",
         "David",
         "Liu",
         "david20@adventure-works.com",
         "440-555-0132",
         "2005-08-01 00:00:00"
        ],
        [
         "12",
         "19",
         "John",
         "Beaver",
         "john8@adventure-works.com",
         "521-555-0195",
         "2007-04-01 00:00:00"
        ],
        [
         "13",
         "20",
         "Jean",
         "Handley",
         "jean1@adventure-works.com",
         "582-555-0113",
         "2005-09-01 00:00:00"
        ],
        [
         "14",
         "21",
         "Jinghao",
         "Liu",
         "jinghao1@adventure-works.com",
         "928-555-0116",
         "2006-09-01 00:00:00"
        ],
        [
         "15",
         "22",
         "Linda",
         "Burnett",
         "linda4@adventure-works.com",
         "121-555-0121",
         "2005-08-01 00:00:00"
        ],
        [
         "16",
         "23",
         "Kerim",
         "Hanif",
         "kerim0@adventure-works.com",
         "216-555-0122",
         "2006-09-01 00:00:00"
        ],
        [
         "17",
         "24",
         "Kevin",
         "Liu",
         "kevin5@adventure-works.com",
         "926-555-0164",
         "2006-09-01 00:00:00"
        ],
        [
         "18",
         "25",
         "Donald",
         "Blanton",
         "donald0@adventure-works.com",
         "357-555-0161",
         "2006-09-01 00:00:00"
        ],
        [
         "19",
         "28",
         "Jackie",
         "Blackwell",
         "jackie0@adventure-works.com",
         "972-555-0163",
         "2007-08-01 00:00:00"
        ],
        [
         "20",
         "29",
         "Bryan",
         "Hamilton",
         "bryan2@adventure-works.com",
         "344-555-0144",
         "2005-08-01 00:00:00"
        ],
        [
         "21",
         "30",
         "Todd",
         "Logan",
         "todd0@adventure-works.com",
         "783-555-0110",
         "2006-09-01 00:00:00"
        ],
        [
         "22",
         "34",
         "Barbara",
         "German",
         "barbara4@adventure-works.com",
         "1 (11) 500 555-0181",
         "2007-07-01 00:00:00"
        ],
        [
         "23",
         "37",
         "Jim",
         "Geist",
         "jim1@adventure-works.com",
         "724-555-0161",
         "2006-09-01 00:00:00"
        ],
        [
         "24",
         "38",
         "Betty",
         "Haines",
         "betty0@adventure-works.com",
         "867-555-0114",
         "2007-09-01 00:00:00"
        ],
        [
         "25",
         "39",
         "Sharon",
         "Looney",
         "sharon2@adventure-works.com",
         "377-555-0132",
         "2006-09-01 00:00:00"
        ],
        [
         "26",
         "40",
         "Darren",
         "Gehring",
         "darren0@adventure-works.com",
         "417-555-0182",
         "2005-08-01 00:00:00"
        ],
        [
         "27",
         "41",
         "Erin",
         "Hagens",
         "erin1@adventure-works.com",
         "244-555-0127",
         "2006-07-01 00:00:00"
        ],
        [
         "28",
         "42",
         "Jeremy",
         "Los",
         "jeremy0@adventure-works.com",
         "911-555-0165",
         "2006-07-01 00:00:00"
        ],
        [
         "29",
         "43",
         "Elsa",
         "Leavitt",
         "elsa0@adventure-works.com",
         "482-555-0174",
         "2006-08-01 00:00:00"
        ],
        [
         "30",
         "46",
         "David",
         "Lawrence",
         "david19@adventure-works.com",
         "653-555-0159",
         "2006-12-01 00:00:00"
        ],
        [
         "31",
         "47",
         "Hattie",
         "Haemon",
         "hattie0@adventure-works.com",
         "141-555-0172",
         "2005-09-01 00:00:00"
        ],
        [
         "32",
         "48",
         "Anita",
         "Lucerne",
         "anita0@adventure-works.com",
         "164-555-0118",
         "2007-09-01 00:00:00"
        ],
        [
         "33",
         "52",
         "Rebecca",
         "Laszlo",
         "rebecca2@adventure-works.com",
         "1 (11) 500 555-0155",
         "2007-09-01 00:00:00"
        ],
        [
         "34",
         "55",
         "Eric",
         "Lang",
         "eric6@adventure-works.com",
         "932-555-0163",
         "2007-09-01 00:00:00"
        ],
        [
         "35",
         "56",
         "Brian",
         "Groth",
         "brian5@adventure-works.com",
         "461-555-0118",
         "2006-08-01 00:00:00"
        ],
        [
         "36",
         "57",
         "Judy",
         "Lundahl",
         "judy1@adventure-works.com",
         "260-555-0130",
         "2005-09-01 00:00:00"
        ],
        [
         "37",
         "58",
         "Peter",
         "Kurniawan",
         "peter4@adventure-works.com",
         "436-555-0160",
         "2005-11-01 00:00:00"
        ],
        [
         "38",
         "59",
         "Douglas",
         "Groncki",
         "douglas2@adventure-works.com",
         "385-555-0140",
         "2007-09-01 00:00:00"
        ],
        [
         "39",
         "60",
         "Sean",
         "Lunt",
         "sean4@adventure-works.com",
         "183-555-0111",
         "2007-09-01 00:00:00"
        ],
        [
         "40",
         "61",
         "Jeffrey",
         "Kurtz",
         "jeffrey3@adventure-works.com",
         "452-555-0179",
         "2006-09-01 00:00:00"
        ],
        [
         "41",
         "64",
         "Vamsi",
         "Kuppa",
         "vamsi1@adventure-works.com",
         "290-555-0196",
         "2007-08-01 00:00:00"
        ],
        [
         "42",
         "65",
         "Jane",
         "Greer",
         "jane2@adventure-works.com",
         "737-555-0163",
         "2006-08-01 00:00:00"
        ],
        [
         "43",
         "66",
         "Alexander",
         "Deborde",
         "alexander1@adventure-works.com",
         "394-555-0176",
         "2006-08-01 00:00:00"
        ],
        [
         "44",
         "70",
         "Deepak",
         "Kumar",
         "deepak0@adventure-works.com",
         "1 (11) 500 555-0122",
         "2007-08-01 00:00:00"
        ],
        [
         "45",
         "73",
         "Margaret",
         "Krupka",
         "margaret1@adventure-works.com",
         "107-555-0132",
         "2005-08-01 00:00:00"
        ],
        [
         "46",
         "74",
         "Christopher",
         "Bright",
         "christopher2@adventure-works.com",
         "162-555-0166",
         "2005-11-01 00:00:00"
        ],
        [
         "47",
         "75",
         "Aidan",
         "Delaney",
         "aidan0@adventure-works.com",
         "358-555-0188",
         "2005-09-01 00:00:00"
        ],
        [
         "48",
         "76",
         "James",
         "Krow",
         "james11@adventure-works.com",
         "265-555-0190",
         "2005-09-01 00:00:00"
        ],
        [
         "49",
         "77",
         "Michael",
         "Brundage",
         "michael13@adventure-works.com",
         "128-555-0148",
         "2006-08-01 00:00:00"
        ]
       ],
       "shape": {
        "columns": 6,
        "rows": 847
       }
      },
      "text/html": [
       "<div>\n",
       "<style scoped>\n",
       "    .dataframe tbody tr th:only-of-type {\n",
       "        vertical-align: middle;\n",
       "    }\n",
       "\n",
       "    .dataframe tbody tr th {\n",
       "        vertical-align: top;\n",
       "    }\n",
       "\n",
       "    .dataframe thead th {\n",
       "        text-align: right;\n",
       "    }\n",
       "</style>\n",
       "<table border=\"1\" class=\"dataframe\">\n",
       "  <thead>\n",
       "    <tr style=\"text-align: right;\">\n",
       "      <th></th>\n",
       "      <th>CustomerID</th>\n",
       "      <th>FirstName</th>\n",
       "      <th>LastName</th>\n",
       "      <th>EmailAddress</th>\n",
       "      <th>Phone</th>\n",
       "      <th>ModifiedDate</th>\n",
       "    </tr>\n",
       "  </thead>\n",
       "  <tbody>\n",
       "    <tr>\n",
       "      <th>0</th>\n",
       "      <td>1</td>\n",
       "      <td>Orlando</td>\n",
       "      <td>Gee</td>\n",
       "      <td>orlando0@adventure-works.com</td>\n",
       "      <td>245-555-0173</td>\n",
       "      <td>2005-08-01</td>\n",
       "    </tr>\n",
       "    <tr>\n",
       "      <th>1</th>\n",
       "      <td>2</td>\n",
       "      <td>Keith</td>\n",
       "      <td>Harris</td>\n",
       "      <td>keith0@adventure-works.com</td>\n",
       "      <td>170-555-0127</td>\n",
       "      <td>2006-08-01</td>\n",
       "    </tr>\n",
       "    <tr>\n",
       "      <th>2</th>\n",
       "      <td>3</td>\n",
       "      <td>Donna</td>\n",
       "      <td>Carreras</td>\n",
       "      <td>donna0@adventure-works.com</td>\n",
       "      <td>279-555-0130</td>\n",
       "      <td>2005-09-01</td>\n",
       "    </tr>\n",
       "    <tr>\n",
       "      <th>3</th>\n",
       "      <td>4</td>\n",
       "      <td>Janet</td>\n",
       "      <td>Gates</td>\n",
       "      <td>janet1@adventure-works.com</td>\n",
       "      <td>710-555-0173</td>\n",
       "      <td>2006-07-01</td>\n",
       "    </tr>\n",
       "    <tr>\n",
       "      <th>4</th>\n",
       "      <td>5</td>\n",
       "      <td>Lucy</td>\n",
       "      <td>Harrington</td>\n",
       "      <td>lucy0@adventure-works.com</td>\n",
       "      <td>828-555-0186</td>\n",
       "      <td>2006-09-01</td>\n",
       "    </tr>\n",
       "    <tr>\n",
       "      <th>...</th>\n",
       "      <td>...</td>\n",
       "      <td>...</td>\n",
       "      <td>...</td>\n",
       "      <td>...</td>\n",
       "      <td>...</td>\n",
       "      <td>...</td>\n",
       "    </tr>\n",
       "    <tr>\n",
       "      <th>842</th>\n",
       "      <td>30113</td>\n",
       "      <td>Raja</td>\n",
       "      <td>Venugopal</td>\n",
       "      <td>raja0@adventure-works.com</td>\n",
       "      <td>1 (11) 500 555-0195</td>\n",
       "      <td>2006-09-01</td>\n",
       "    </tr>\n",
       "    <tr>\n",
       "      <th>843</th>\n",
       "      <td>30115</td>\n",
       "      <td>Dora</td>\n",
       "      <td>Verdad</td>\n",
       "      <td>dora0@adventure-works.com</td>\n",
       "      <td>155-555-0140</td>\n",
       "      <td>2006-08-01</td>\n",
       "    </tr>\n",
       "    <tr>\n",
       "      <th>844</th>\n",
       "      <td>30116</td>\n",
       "      <td>Wanda</td>\n",
       "      <td>Vernon</td>\n",
       "      <td>wanda0@adventure-works.com</td>\n",
       "      <td>433-555-0168</td>\n",
       "      <td>2007-07-01</td>\n",
       "    </tr>\n",
       "    <tr>\n",
       "      <th>845</th>\n",
       "      <td>30117</td>\n",
       "      <td>Robert</td>\n",
       "      <td>Vessa</td>\n",
       "      <td>robert13@adventure-works.com</td>\n",
       "      <td>560-555-0171</td>\n",
       "      <td>2005-08-01</td>\n",
       "    </tr>\n",
       "    <tr>\n",
       "      <th>846</th>\n",
       "      <td>30118</td>\n",
       "      <td>Caroline</td>\n",
       "      <td>Vicknair</td>\n",
       "      <td>caroline0@adventure-works.com</td>\n",
       "      <td>695-555-0158</td>\n",
       "      <td>2006-09-01</td>\n",
       "    </tr>\n",
       "  </tbody>\n",
       "</table>\n",
       "<p>847 rows × 6 columns</p>\n",
       "</div>"
      ],
      "text/plain": [
       "     CustomerID FirstName    LastName                   EmailAddress  \\\n",
       "0             1   Orlando         Gee   orlando0@adventure-works.com   \n",
       "1             2     Keith      Harris     keith0@adventure-works.com   \n",
       "2             3     Donna    Carreras     donna0@adventure-works.com   \n",
       "3             4     Janet       Gates     janet1@adventure-works.com   \n",
       "4             5      Lucy  Harrington      lucy0@adventure-works.com   \n",
       "..          ...       ...         ...                            ...   \n",
       "842       30113      Raja   Venugopal      raja0@adventure-works.com   \n",
       "843       30115      Dora      Verdad      dora0@adventure-works.com   \n",
       "844       30116     Wanda      Vernon     wanda0@adventure-works.com   \n",
       "845       30117    Robert       Vessa   robert13@adventure-works.com   \n",
       "846       30118  Caroline    Vicknair  caroline0@adventure-works.com   \n",
       "\n",
       "                   Phone ModifiedDate  \n",
       "0           245-555-0173   2005-08-01  \n",
       "1           170-555-0127   2006-08-01  \n",
       "2           279-555-0130   2005-09-01  \n",
       "3           710-555-0173   2006-07-01  \n",
       "4           828-555-0186   2006-09-01  \n",
       "..                   ...          ...  \n",
       "842  1 (11) 500 555-0195   2006-09-01  \n",
       "843         155-555-0140   2006-08-01  \n",
       "844         433-555-0168   2007-07-01  \n",
       "845         560-555-0171   2005-08-01  \n",
       "846         695-555-0158   2006-09-01  \n",
       "\n",
       "[847 rows x 6 columns]"
      ]
     },
     "execution_count": 34,
     "metadata": {},
     "output_type": "execute_result"
    }
   ],
   "source": [
    "datos"
   ]
  },
  {
   "cell_type": "code",
   "execution_count": null,
   "id": "091d8a80",
   "metadata": {},
   "outputs": [],
   "source": [
    "# Guardar los datos en un archivo CSV\n",
    "datos.to_csv('customer.csv', index=False)"
   ]
  },
  {
   "cell_type": "code",
   "execution_count": null,
   "id": "36a2a987",
   "metadata": {},
   "outputs": [],
   "source": [
    "# Cerrar la conexión\n",
    "conn.close()"
   ]
  }
 ],
 "metadata": {
  "kernelspec": {
   "display_name": ".venv",
   "language": "python",
   "name": "python3"
  },
  "language_info": {
   "codemirror_mode": {
    "name": "ipython",
    "version": 3
   },
   "file_extension": ".py",
   "mimetype": "text/x-python",
   "name": "python",
   "nbconvert_exporter": "python",
   "pygments_lexer": "ipython3",
   "version": "3.12.9"
  }
 },
 "nbformat": 4,
 "nbformat_minor": 5
}
