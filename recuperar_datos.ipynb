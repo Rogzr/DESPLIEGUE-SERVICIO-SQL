{
 "cells": [
  {
   "cell_type": "markdown",
   "id": "18c6e8ad",
   "metadata": {},
   "source": [
    "## Conexión a Azure"
   ]
  },
  {
   "cell_type": "code",
   "execution_count": null,
   "id": "d994d968",
   "metadata": {},
   "outputs": [],
   "source": [
    "import json\n",
    "\n",
    "id = open('my_psswd.json', 'r')\n",
    "mi = json.load(id)\n",
    "YOUR_PASSWORD = mi[\"pswd\"]"
   ]
  },
  {
   "cell_type": "code",
   "execution_count": null,
   "id": "86f781ca",
   "metadata": {},
   "outputs": [
    {
     "name": "stdout",
     "output_type": "stream",
     "text": [
      "Connected to the Azure SQL Database successfully!\n"
     ]
    }
   ],
   "source": [
    "import pyodbc\n",
    "\n",
    "# Establecer los parámetros de conexión\n",
    "server = 'rar-server.database.windows.net'\n",
    "database = 'RARdb'\n",
    "username = 'rar'\n",
    "password = YOUR_PASSWORD\n",
    "\n",
    "# definir la conexión para SQL Server (Azure)\n",
    "conn_str = (\n",
    "    f'DRIVER={{ODBC Driver 18 for SQL Server}};'\n",
    "    f'SERVER={server};'\n",
    "    f'DATABASE={database};'\n",
    "    f'UID={username};'\n",
    "    f'PWD={password}'\n",
    ")\n",
    "\n",
    "# Establecer la conexión a la base de datos\n",
    "try:\n",
    "    conn = pyodbc.connect(conn_str)\n",
    "    print(\"Connected to the Azure SQL Database successfully!\")\n",
    "\n",
    "except pyodbc.Error as e:\n",
    "    print(f\"Error connecting to the database: {e}\")"
   ]
  },
  {
   "cell_type": "markdown",
   "id": "86619baa",
   "metadata": {},
   "source": [
    "## Recuperación de datos"
   ]
  },
  {
   "cell_type": "code",
   "execution_count": 46,
   "id": "f803129c",
   "metadata": {},
   "outputs": [
    {
     "name": "stderr",
     "output_type": "stream",
     "text": [
      "C:\\Users\\rodri\\AppData\\Local\\Temp\\ipykernel_23268\\1966378067.py:5: UserWarning: pandas only supports SQLAlchemy connectable (engine/connection) or database string URI or sqlite3 DBAPI2 connection. Other DBAPI2 objects are not tested. Please consider using SQLAlchemy.\n",
      "  datos = pd.read_sql(query_2, conn)\n"
     ]
    },
    {
     "data": {
      "application/vnd.microsoft.datawrangler.viewer.v0+json": {
       "columns": [
        {
         "name": "index",
         "rawType": "int64",
         "type": "integer"
        },
        {
         "name": "CustomerID",
         "rawType": "int64",
         "type": "integer"
        },
        {
         "name": "NameStyle",
         "rawType": "bool",
         "type": "boolean"
        },
        {
         "name": "Title",
         "rawType": "object",
         "type": "string"
        },
        {
         "name": "FirstName",
         "rawType": "object",
         "type": "string"
        },
        {
         "name": "MiddleName",
         "rawType": "object",
         "type": "unknown"
        },
        {
         "name": "LastName",
         "rawType": "object",
         "type": "string"
        },
        {
         "name": "Suffix",
         "rawType": "object",
         "type": "unknown"
        },
        {
         "name": "CompanyName",
         "rawType": "object",
         "type": "string"
        },
        {
         "name": "SalesPerson",
         "rawType": "object",
         "type": "string"
        },
        {
         "name": "EmailAddress",
         "rawType": "object",
         "type": "string"
        },
        {
         "name": "Phone",
         "rawType": "object",
         "type": "string"
        },
        {
         "name": "PasswordHash",
         "rawType": "object",
         "type": "string"
        },
        {
         "name": "PasswordSalt",
         "rawType": "object",
         "type": "string"
        },
        {
         "name": "rowguid",
         "rawType": "object",
         "type": "string"
        },
        {
         "name": "ModifiedDate",
         "rawType": "datetime64[ns]",
         "type": "datetime"
        }
       ],
       "conversionMethod": "pd.DataFrame",
       "ref": "c2e6380b-92a1-4d04-aec4-9c5cb8ffe08f",
       "rows": [
        [
         "0",
         "1",
         "False",
         "Mr.",
         "Orlando",
         "N.",
         "Gee",
         null,
         "A Bike Store",
         "adventure-works\\pamela0",
         "orlando0@adventure-works.com",
         "245-555-0173",
         "L/Rlwxzp4w7RWmEgXX+/A7cXaePEPcp+KwQhl2fJL7w=",
         "1KjXYs4=",
         "3F5AE95E-B87D-4AED-95B4-C3797AFCB74F",
         "2005-08-01 00:00:00"
        ],
        [
         "1",
         "2",
         "False",
         "Mr.",
         "Keith",
         null,
         "Harris",
         null,
         "Progressive Sports",
         "adventure-works\\david8",
         "keith0@adventure-works.com",
         "170-555-0127",
         "YPdtRdvqeAhj6wyxEsFdshBDNXxkCXn+CRgbvJItknw=",
         "fs1ZGhY=",
         "E552F657-A9AF-4A7D-A645-C429D6E02491",
         "2006-08-01 00:00:00"
        ],
        [
         "2",
         "3",
         "False",
         "Ms.",
         "Donna",
         "F.",
         "Carreras",
         null,
         "Advanced Bike Components",
         "adventure-works\\jillian0",
         "donna0@adventure-works.com",
         "279-555-0130",
         "LNoK27abGQo48gGue3EBV/UrlYSToV0/s87dCRV7uJk=",
         "YTNH5Rw=",
         "130774B1-DB21-4EF3-98C8-C104BCD6ED6D",
         "2005-09-01 00:00:00"
        ],
        [
         "3",
         "4",
         "False",
         "Ms.",
         "Janet",
         "M.",
         "Gates",
         null,
         "Modular Cycle Systems",
         "adventure-works\\jillian0",
         "janet1@adventure-works.com",
         "710-555-0173",
         "ElzTpSNbUW1Ut+L5cWlfR7MF6nBZia8WpmGaQPjLOJA=",
         "nm7D5e4=",
         "FF862851-1DAA-4044-BE7C-3E85583C054D",
         "2006-07-01 00:00:00"
        ],
        [
         "4",
         "5",
         "False",
         "Mr.",
         "Lucy",
         null,
         "Harrington",
         null,
         "Metropolitan Sports Supply",
         "adventure-works\\shu0",
         "lucy0@adventure-works.com",
         "828-555-0186",
         "KJqV15wsX3PG8TS5GSddp6LFFVdd3CoRftZM/tP0+R4=",
         "cNFKU4w=",
         "83905BDC-6F5E-4F71-B162-C98DA069F38A",
         "2006-09-01 00:00:00"
        ]
       ],
       "shape": {
        "columns": 15,
        "rows": 5
       }
      },
      "text/html": [
       "<div>\n",
       "<style scoped>\n",
       "    .dataframe tbody tr th:only-of-type {\n",
       "        vertical-align: middle;\n",
       "    }\n",
       "\n",
       "    .dataframe tbody tr th {\n",
       "        vertical-align: top;\n",
       "    }\n",
       "\n",
       "    .dataframe thead th {\n",
       "        text-align: right;\n",
       "    }\n",
       "</style>\n",
       "<table border=\"1\" class=\"dataframe\">\n",
       "  <thead>\n",
       "    <tr style=\"text-align: right;\">\n",
       "      <th></th>\n",
       "      <th>CustomerID</th>\n",
       "      <th>NameStyle</th>\n",
       "      <th>Title</th>\n",
       "      <th>FirstName</th>\n",
       "      <th>MiddleName</th>\n",
       "      <th>LastName</th>\n",
       "      <th>Suffix</th>\n",
       "      <th>CompanyName</th>\n",
       "      <th>SalesPerson</th>\n",
       "      <th>EmailAddress</th>\n",
       "      <th>Phone</th>\n",
       "      <th>PasswordHash</th>\n",
       "      <th>PasswordSalt</th>\n",
       "      <th>rowguid</th>\n",
       "      <th>ModifiedDate</th>\n",
       "    </tr>\n",
       "  </thead>\n",
       "  <tbody>\n",
       "    <tr>\n",
       "      <th>0</th>\n",
       "      <td>1</td>\n",
       "      <td>False</td>\n",
       "      <td>Mr.</td>\n",
       "      <td>Orlando</td>\n",
       "      <td>N.</td>\n",
       "      <td>Gee</td>\n",
       "      <td>None</td>\n",
       "      <td>A Bike Store</td>\n",
       "      <td>adventure-works\\pamela0</td>\n",
       "      <td>orlando0@adventure-works.com</td>\n",
       "      <td>245-555-0173</td>\n",
       "      <td>L/Rlwxzp4w7RWmEgXX+/A7cXaePEPcp+KwQhl2fJL7w=</td>\n",
       "      <td>1KjXYs4=</td>\n",
       "      <td>3F5AE95E-B87D-4AED-95B4-C3797AFCB74F</td>\n",
       "      <td>2005-08-01</td>\n",
       "    </tr>\n",
       "    <tr>\n",
       "      <th>1</th>\n",
       "      <td>2</td>\n",
       "      <td>False</td>\n",
       "      <td>Mr.</td>\n",
       "      <td>Keith</td>\n",
       "      <td>None</td>\n",
       "      <td>Harris</td>\n",
       "      <td>None</td>\n",
       "      <td>Progressive Sports</td>\n",
       "      <td>adventure-works\\david8</td>\n",
       "      <td>keith0@adventure-works.com</td>\n",
       "      <td>170-555-0127</td>\n",
       "      <td>YPdtRdvqeAhj6wyxEsFdshBDNXxkCXn+CRgbvJItknw=</td>\n",
       "      <td>fs1ZGhY=</td>\n",
       "      <td>E552F657-A9AF-4A7D-A645-C429D6E02491</td>\n",
       "      <td>2006-08-01</td>\n",
       "    </tr>\n",
       "    <tr>\n",
       "      <th>2</th>\n",
       "      <td>3</td>\n",
       "      <td>False</td>\n",
       "      <td>Ms.</td>\n",
       "      <td>Donna</td>\n",
       "      <td>F.</td>\n",
       "      <td>Carreras</td>\n",
       "      <td>None</td>\n",
       "      <td>Advanced Bike Components</td>\n",
       "      <td>adventure-works\\jillian0</td>\n",
       "      <td>donna0@adventure-works.com</td>\n",
       "      <td>279-555-0130</td>\n",
       "      <td>LNoK27abGQo48gGue3EBV/UrlYSToV0/s87dCRV7uJk=</td>\n",
       "      <td>YTNH5Rw=</td>\n",
       "      <td>130774B1-DB21-4EF3-98C8-C104BCD6ED6D</td>\n",
       "      <td>2005-09-01</td>\n",
       "    </tr>\n",
       "    <tr>\n",
       "      <th>3</th>\n",
       "      <td>4</td>\n",
       "      <td>False</td>\n",
       "      <td>Ms.</td>\n",
       "      <td>Janet</td>\n",
       "      <td>M.</td>\n",
       "      <td>Gates</td>\n",
       "      <td>None</td>\n",
       "      <td>Modular Cycle Systems</td>\n",
       "      <td>adventure-works\\jillian0</td>\n",
       "      <td>janet1@adventure-works.com</td>\n",
       "      <td>710-555-0173</td>\n",
       "      <td>ElzTpSNbUW1Ut+L5cWlfR7MF6nBZia8WpmGaQPjLOJA=</td>\n",
       "      <td>nm7D5e4=</td>\n",
       "      <td>FF862851-1DAA-4044-BE7C-3E85583C054D</td>\n",
       "      <td>2006-07-01</td>\n",
       "    </tr>\n",
       "    <tr>\n",
       "      <th>4</th>\n",
       "      <td>5</td>\n",
       "      <td>False</td>\n",
       "      <td>Mr.</td>\n",
       "      <td>Lucy</td>\n",
       "      <td>None</td>\n",
       "      <td>Harrington</td>\n",
       "      <td>None</td>\n",
       "      <td>Metropolitan Sports Supply</td>\n",
       "      <td>adventure-works\\shu0</td>\n",
       "      <td>lucy0@adventure-works.com</td>\n",
       "      <td>828-555-0186</td>\n",
       "      <td>KJqV15wsX3PG8TS5GSddp6LFFVdd3CoRftZM/tP0+R4=</td>\n",
       "      <td>cNFKU4w=</td>\n",
       "      <td>83905BDC-6F5E-4F71-B162-C98DA069F38A</td>\n",
       "      <td>2006-09-01</td>\n",
       "    </tr>\n",
       "  </tbody>\n",
       "</table>\n",
       "</div>"
      ],
      "text/plain": [
       "   CustomerID  NameStyle Title FirstName MiddleName    LastName Suffix  \\\n",
       "0           1      False   Mr.   Orlando         N.         Gee   None   \n",
       "1           2      False   Mr.     Keith       None      Harris   None   \n",
       "2           3      False   Ms.     Donna         F.    Carreras   None   \n",
       "3           4      False   Ms.     Janet         M.       Gates   None   \n",
       "4           5      False   Mr.      Lucy       None  Harrington   None   \n",
       "\n",
       "                  CompanyName               SalesPerson  \\\n",
       "0                A Bike Store   adventure-works\\pamela0   \n",
       "1          Progressive Sports    adventure-works\\david8   \n",
       "2    Advanced Bike Components  adventure-works\\jillian0   \n",
       "3       Modular Cycle Systems  adventure-works\\jillian0   \n",
       "4  Metropolitan Sports Supply      adventure-works\\shu0   \n",
       "\n",
       "                   EmailAddress         Phone  \\\n",
       "0  orlando0@adventure-works.com  245-555-0173   \n",
       "1    keith0@adventure-works.com  170-555-0127   \n",
       "2    donna0@adventure-works.com  279-555-0130   \n",
       "3    janet1@adventure-works.com  710-555-0173   \n",
       "4     lucy0@adventure-works.com  828-555-0186   \n",
       "\n",
       "                                   PasswordHash PasswordSalt  \\\n",
       "0  L/Rlwxzp4w7RWmEgXX+/A7cXaePEPcp+KwQhl2fJL7w=     1KjXYs4=   \n",
       "1  YPdtRdvqeAhj6wyxEsFdshBDNXxkCXn+CRgbvJItknw=     fs1ZGhY=   \n",
       "2  LNoK27abGQo48gGue3EBV/UrlYSToV0/s87dCRV7uJk=     YTNH5Rw=   \n",
       "3  ElzTpSNbUW1Ut+L5cWlfR7MF6nBZia8WpmGaQPjLOJA=     nm7D5e4=   \n",
       "4  KJqV15wsX3PG8TS5GSddp6LFFVdd3CoRftZM/tP0+R4=     cNFKU4w=   \n",
       "\n",
       "                                rowguid ModifiedDate  \n",
       "0  3F5AE95E-B87D-4AED-95B4-C3797AFCB74F   2005-08-01  \n",
       "1  E552F657-A9AF-4A7D-A645-C429D6E02491   2006-08-01  \n",
       "2  130774B1-DB21-4EF3-98C8-C104BCD6ED6D   2005-09-01  \n",
       "3  FF862851-1DAA-4044-BE7C-3E85583C054D   2006-07-01  \n",
       "4  83905BDC-6F5E-4F71-B162-C98DA069F38A   2006-09-01  "
      ]
     },
     "execution_count": 46,
     "metadata": {},
     "output_type": "execute_result"
    }
   ],
   "source": [
    "import pandas as pd\n",
    "\n",
    "# Realizar una consulta SQL y cargar los datos\n",
    "query_2 = \"SELECT * FROM SalesLT.customer\"\n",
    "datos = pd.read_sql(query_2, conn)\n",
    "datos.head()"
   ]
  },
  {
   "cell_type": "code",
   "execution_count": 47,
   "id": "aa4fe3a2",
   "metadata": {},
   "outputs": [],
   "source": [
    "# limpiar la base de datos seleccionando las columnas que se van a usar (fecha)\n",
    "datos = datos[['CompanyName','SalesPerson', 'ModifiedDate']]\n",
    "\n",
    "# agregar una columna usando la modifieddate como rango de fechas del 0 al n\n",
    "datos['ModifiedDate'] = pd.to_datetime(datos['ModifiedDate'])\n",
    "datos['ModifiedDate'] = (datos['ModifiedDate'] - datos['ModifiedDate'].min()).dt.days\n",
    "# renombrar la columna de modifieddate a fecha\n",
    "datos.rename(columns={'ModifiedDate': 'Fecha'}, inplace=True)\n"
   ]
  },
  {
   "cell_type": "code",
   "execution_count": 48,
   "id": "1542f7c4",
   "metadata": {},
   "outputs": [
    {
     "data": {
      "application/vnd.microsoft.datawrangler.viewer.v0+json": {
       "columns": [
        {
         "name": "index",
         "rawType": "int64",
         "type": "integer"
        },
        {
         "name": "CompanyName",
         "rawType": "object",
         "type": "string"
        },
        {
         "name": "SalesPerson",
         "rawType": "object",
         "type": "string"
        },
        {
         "name": "Fecha",
         "rawType": "int64",
         "type": "integer"
        }
       ],
       "conversionMethod": "pd.DataFrame",
       "ref": "21a3c407-da5f-4e7d-9572-59c00f1ef75c",
       "rows": [
        [
         "0",
         "A Bike Store",
         "adventure-works\\pamela0",
         "31"
        ],
        [
         "1",
         "Progressive Sports",
         "adventure-works\\david8",
         "396"
        ],
        [
         "2",
         "Advanced Bike Components",
         "adventure-works\\jillian0",
         "62"
        ],
        [
         "3",
         "Modular Cycle Systems",
         "adventure-works\\jillian0",
         "365"
        ],
        [
         "4",
         "Metropolitan Sports Supply",
         "adventure-works\\shu0",
         "427"
        ],
        [
         "5",
         "Aerobic Exercise Company",
         "adventure-works\\linda3",
         "792"
        ],
        [
         "6",
         "Associated Bikes",
         "adventure-works\\shu0",
         "365"
        ],
        [
         "7",
         "Rural Cycle Emporium",
         "adventure-works\\josé1",
         "427"
        ],
        [
         "8",
         "Sharp Bikes",
         "adventure-works\\josé1",
         "31"
        ],
        [
         "9",
         "Bikes and Motorbikes",
         "adventure-works\\garrett1",
         "396"
        ],
        [
         "10",
         "Bulk Discount Store",
         "adventure-works\\jae0",
         "427"
        ],
        [
         "11",
         "Catalog Store",
         "adventure-works\\michael9",
         "31"
        ],
        [
         "12",
         "Center Cycle Shop",
         "adventure-works\\pamela0",
         "639"
        ],
        [
         "13",
         "Central Discount Store",
         "adventure-works\\david8",
         "62"
        ],
        [
         "14",
         "Chic Department Stores",
         "adventure-works\\jillian0",
         "427"
        ],
        [
         "15",
         "Travel Systems",
         "adventure-works\\jillian0",
         "31"
        ],
        [
         "16",
         "Bike World",
         "adventure-works\\shu0",
         "427"
        ],
        [
         "17",
         "Eastside Department Store",
         "adventure-works\\linda3",
         "427"
        ],
        [
         "18",
         "Coalition Bike Company",
         "adventure-works\\shu0",
         "427"
        ],
        [
         "19",
         "Commuter Bicycle Store",
         "adventure-works\\josé1",
         "761"
        ],
        [
         "20",
         "Cross-Country Riding Supplies",
         "adventure-works\\josé1",
         "31"
        ],
        [
         "21",
         "Cycle Merchants",
         "adventure-works\\garrett1",
         "427"
        ],
        [
         "22",
         "Cycles Wholesaler & Mfg.",
         "adventure-works\\jae0",
         "730"
        ],
        [
         "23",
         "Two Bike Shops",
         "adventure-works\\pamela0",
         "427"
        ],
        [
         "24",
         "Finer Mart",
         "adventure-works\\david8",
         "792"
        ],
        [
         "25",
         "Fitness Hotel",
         "adventure-works\\jillian0",
         "427"
        ],
        [
         "26",
         "Journey Sporting Goods",
         "adventure-works\\jillian0",
         "31"
        ],
        [
         "27",
         "Distant Inn",
         "adventure-works\\shu0",
         "365"
        ],
        [
         "28",
         "Healthy Activity Store",
         "adventure-works\\linda3",
         "365"
        ],
        [
         "29",
         "Frugal Bike Shop",
         "adventure-works\\shu0",
         "396"
        ],
        [
         "30",
         "Gear-Shift Bikes Limited",
         "adventure-works\\josé1",
         "518"
        ],
        [
         "31",
         "Greater Bike Store",
         "adventure-works\\josé1",
         "62"
        ],
        [
         "32",
         "Grand Industries",
         "adventure-works\\garrett1",
         "792"
        ],
        [
         "33",
         "Instruments and Parts Company",
         "adventure-works\\jae0",
         "792"
        ],
        [
         "34",
         "Kickstands and Accessories Company",
         "adventure-works\\pamela0",
         "792"
        ],
        [
         "35",
         "Latest Accessories Sales",
         "adventure-works\\david8",
         "396"
        ],
        [
         "36",
         "Leading Sales & Repair",
         "adventure-works\\jillian0",
         "62"
        ],
        [
         "37",
         "Largest Bike Store",
         "adventure-works\\jillian0",
         "123"
        ],
        [
         "38",
         "Locks Company",
         "adventure-works\\shu0",
         "792"
        ],
        [
         "39",
         "Main Bicycle Services",
         "adventure-works\\linda3",
         "792"
        ],
        [
         "40",
         "Many Bikes Store",
         "adventure-works\\shu0",
         "427"
        ],
        [
         "41",
         "Metal Clearing House",
         "adventure-works\\josé1",
         "761"
        ],
        [
         "42",
         "Metro Manufacturing",
         "adventure-works\\josé1",
         "396"
        ],
        [
         "43",
         "Neighborhood Store",
         "adventure-works\\garrett1",
         "396"
        ],
        [
         "44",
         "Outdoor Aerobic Systems Company",
         "adventure-works\\jae0",
         "761"
        ],
        [
         "45",
         "Outdoor Sports Supply",
         "adventure-works\\pamela0",
         "31"
        ],
        [
         "46",
         "Parcel Express Delivery Service",
         "adventure-works\\david8",
         "123"
        ],
        [
         "47",
         "Paint Supply",
         "adventure-works\\jillian0",
         "62"
        ],
        [
         "48",
         "Out-of-the-Way Hotels",
         "adventure-works\\jillian0",
         "62"
        ],
        [
         "49",
         "Mechanical Products Ltd.",
         "adventure-works\\shu0",
         "396"
        ]
       ],
       "shape": {
        "columns": 3,
        "rows": 847
       }
      },
      "text/html": [
       "<div>\n",
       "<style scoped>\n",
       "    .dataframe tbody tr th:only-of-type {\n",
       "        vertical-align: middle;\n",
       "    }\n",
       "\n",
       "    .dataframe tbody tr th {\n",
       "        vertical-align: top;\n",
       "    }\n",
       "\n",
       "    .dataframe thead th {\n",
       "        text-align: right;\n",
       "    }\n",
       "</style>\n",
       "<table border=\"1\" class=\"dataframe\">\n",
       "  <thead>\n",
       "    <tr style=\"text-align: right;\">\n",
       "      <th></th>\n",
       "      <th>CompanyName</th>\n",
       "      <th>SalesPerson</th>\n",
       "      <th>Fecha</th>\n",
       "    </tr>\n",
       "  </thead>\n",
       "  <tbody>\n",
       "    <tr>\n",
       "      <th>0</th>\n",
       "      <td>A Bike Store</td>\n",
       "      <td>adventure-works\\pamela0</td>\n",
       "      <td>31</td>\n",
       "    </tr>\n",
       "    <tr>\n",
       "      <th>1</th>\n",
       "      <td>Progressive Sports</td>\n",
       "      <td>adventure-works\\david8</td>\n",
       "      <td>396</td>\n",
       "    </tr>\n",
       "    <tr>\n",
       "      <th>2</th>\n",
       "      <td>Advanced Bike Components</td>\n",
       "      <td>adventure-works\\jillian0</td>\n",
       "      <td>62</td>\n",
       "    </tr>\n",
       "    <tr>\n",
       "      <th>3</th>\n",
       "      <td>Modular Cycle Systems</td>\n",
       "      <td>adventure-works\\jillian0</td>\n",
       "      <td>365</td>\n",
       "    </tr>\n",
       "    <tr>\n",
       "      <th>4</th>\n",
       "      <td>Metropolitan Sports Supply</td>\n",
       "      <td>adventure-works\\shu0</td>\n",
       "      <td>427</td>\n",
       "    </tr>\n",
       "    <tr>\n",
       "      <th>...</th>\n",
       "      <td>...</td>\n",
       "      <td>...</td>\n",
       "      <td>...</td>\n",
       "    </tr>\n",
       "    <tr>\n",
       "      <th>842</th>\n",
       "      <td>Nearby Cycle Shop</td>\n",
       "      <td>adventure-works\\jae0</td>\n",
       "      <td>427</td>\n",
       "    </tr>\n",
       "    <tr>\n",
       "      <th>843</th>\n",
       "      <td>Retreat Inn</td>\n",
       "      <td>adventure-works\\josé1</td>\n",
       "      <td>396</td>\n",
       "    </tr>\n",
       "    <tr>\n",
       "      <th>844</th>\n",
       "      <td>Technical Parts Manufacturing</td>\n",
       "      <td>adventure-works\\shu0</td>\n",
       "      <td>730</td>\n",
       "    </tr>\n",
       "    <tr>\n",
       "      <th>845</th>\n",
       "      <td>Totes &amp; Baskets Company</td>\n",
       "      <td>adventure-works\\jillian0</td>\n",
       "      <td>31</td>\n",
       "    </tr>\n",
       "    <tr>\n",
       "      <th>846</th>\n",
       "      <td>World of Bikes</td>\n",
       "      <td>adventure-works\\jillian0</td>\n",
       "      <td>427</td>\n",
       "    </tr>\n",
       "  </tbody>\n",
       "</table>\n",
       "<p>847 rows × 3 columns</p>\n",
       "</div>"
      ],
      "text/plain": [
       "                       CompanyName               SalesPerson  Fecha\n",
       "0                     A Bike Store   adventure-works\\pamela0     31\n",
       "1               Progressive Sports    adventure-works\\david8    396\n",
       "2         Advanced Bike Components  adventure-works\\jillian0     62\n",
       "3            Modular Cycle Systems  adventure-works\\jillian0    365\n",
       "4       Metropolitan Sports Supply      adventure-works\\shu0    427\n",
       "..                             ...                       ...    ...\n",
       "842              Nearby Cycle Shop      adventure-works\\jae0    427\n",
       "843                    Retreat Inn     adventure-works\\josé1    396\n",
       "844  Technical Parts Manufacturing      adventure-works\\shu0    730\n",
       "845        Totes & Baskets Company  adventure-works\\jillian0     31\n",
       "846                 World of Bikes  adventure-works\\jillian0    427\n",
       "\n",
       "[847 rows x 3 columns]"
      ]
     },
     "execution_count": 48,
     "metadata": {},
     "output_type": "execute_result"
    }
   ],
   "source": [
    "datos"
   ]
  },
  {
   "cell_type": "code",
   "execution_count": 49,
   "id": "091d8a80",
   "metadata": {},
   "outputs": [],
   "source": [
    "# Guardar los datos en un archivo CSV\n",
    "datos.to_csv('datos.csv', index=False)"
   ]
  },
  {
   "cell_type": "code",
   "execution_count": null,
   "id": "36a2a987",
   "metadata": {},
   "outputs": [],
   "source": [
    "# Cerrar la conexión\n",
    "conn.close()"
   ]
  }
 ],
 "metadata": {
  "kernelspec": {
   "display_name": ".venv",
   "language": "python",
   "name": "python3"
  },
  "language_info": {
   "codemirror_mode": {
    "name": "ipython",
    "version": 3
   },
   "file_extension": ".py",
   "mimetype": "text/x-python",
   "name": "python",
   "nbconvert_exporter": "python",
   "pygments_lexer": "ipython3",
   "version": "3.12.9"
  }
 },
 "nbformat": 4,
 "nbformat_minor": 5
}
