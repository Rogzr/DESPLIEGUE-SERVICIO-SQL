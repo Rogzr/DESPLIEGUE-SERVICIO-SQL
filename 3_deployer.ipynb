{
 "cells": [
  {
   "cell_type": "markdown",
   "metadata": {},
   "source": [
    "##  Departamento de Cómputo en la Nube\n",
    "---\n",
    "\n"
   ]
  },
  {
   "cell_type": "code",
   "execution_count": 22,
   "metadata": {},
   "outputs": [],
   "source": [
    "#!pip install azureml-core"
   ]
  },
  {
   "cell_type": "code",
   "execution_count": 23,
   "metadata": {},
   "outputs": [],
   "source": [
    "## STEP 1: Set up the workspace.\n",
    "\n",
    "import json\n",
    "\n",
    "#GETTING MY ID:\n",
    "id = open('my_id.json', 'r')\n",
    "mi = json.load(id)\n",
    "my_id = mi[\"my_id\"],\n",
    "\n",
    "from azureml.core import Workspace\n",
    "\n",
    "# ws = Workspace.create(name=\"workspace\",\n",
    "#                       subscription_id = my_id,\n",
    "#                       resource_group = \"resource_group2\",\n",
    "#                       location = \"centralindia\")\n",
    "\n",
    "ws = Workspace.get(name=\"my_first_aml_workspace\",\n",
    "                      subscription_id = mi[\"my_id\"],\n",
    "                      resource_group = \"Azure_for_Students\",\n",
    "                      location = \"eastus\") "
   ]
  },
  {
   "cell_type": "code",
   "execution_count": 24,
   "metadata": {},
   "outputs": [
    {
     "name": "stdout",
     "output_type": "stream",
     "text": [
      "Registering model model\n"
     ]
    }
   ],
   "source": [
    "from azureml.core.model import Model\n",
    "\n",
    "mname = \"model\"\n",
    "registered_model = Model.register(model_path=\"model.pkl\",\n",
    "                                  model_name=mname,\n",
    "                                  workspace=ws)"
   ]
  },
  {
   "cell_type": "code",
   "execution_count": 25,
   "metadata": {},
   "outputs": [],
   "source": [
    "################ score.py ###################\n",
    "\n",
    "scorepy = \"\"\"import json\n",
    "import joblib\n",
    "import numpy as np\n",
    "import pandas as pd\n",
    "from azureml.core.model import Model\n",
    "\n",
    "def init():\n",
    "    global model\n",
    "    model_path = Model.get_model_path('model')\n",
    "    model = joblib.load(model_path)\n",
    "\n",
    "def run(raw_data):\n",
    "    try:\n",
    "        data = json.loads(raw_data)['datos']\n",
    "        data = pd.DataFrame(data)\n",
    "\n",
    "        # Seleccionar columnas relevantes\n",
    "        data = data[['CompanyName', 'SalesPerson', 'ModifiedDate']]\n",
    "\n",
    "        # Convertir ModifiedDate a datetime y luego a rango de días\n",
    "        data['ModifiedDate'] = pd.to_datetime(data['ModifiedDate'])\n",
    "        data['Fecha'] = (data['ModifiedDate'] - data['ModifiedDate'].min()).dt.days\n",
    "\n",
    "        # Eliminar columna original\n",
    "        data.drop(columns=['ModifiedDate'], inplace=True)\n",
    "\n",
    "        # Realizar predicción (ajusta aquí si es necesario)\n",
    "        result = model.predict(data[['CompanyName', 'SalesPerson']])\n",
    "\n",
    "        return json.dumps({\"result\": result.tolist()})\n",
    "    except Exception as e:\n",
    "        return json.dumps({\"error\": str(e)})\n",
    "\"\"\"\n",
    "\n",
    "file_score = open(\"score.py\", \"w\")\n",
    "file_score.write(scorepy)\n",
    "file_score.close()"
   ]
  },
  {
   "cell_type": "code",
   "execution_count": 26,
   "metadata": {},
   "outputs": [
    {
     "data": {
      "text/plain": [
       "{\n",
       "    \"assetId\": \"azureml://locations/eastus/workspaces/c49fa2b4-c7cc-4964-ba47-364e091933da/environments/regression-env-v1/versions/1\",\n",
       "    \"databricks\": {\n",
       "        \"eggLibraries\": [],\n",
       "        \"jarLibraries\": [],\n",
       "        \"mavenLibraries\": [],\n",
       "        \"pypiLibraries\": [],\n",
       "        \"rcranLibraries\": []\n",
       "    },\n",
       "    \"docker\": {\n",
       "        \"arguments\": [],\n",
       "        \"baseDockerfile\": null,\n",
       "        \"baseImage\": \"mcr.microsoft.com/azureml/openmpi4.1.0-ubuntu20.04\",\n",
       "        \"baseImageRegistry\": {\n",
       "            \"address\": null,\n",
       "            \"password\": null,\n",
       "            \"registryIdentity\": null,\n",
       "            \"username\": null\n",
       "        },\n",
       "        \"buildContext\": null,\n",
       "        \"enabled\": false,\n",
       "        \"platform\": {\n",
       "            \"architecture\": \"amd64\",\n",
       "            \"os\": \"Linux\"\n",
       "        },\n",
       "        \"sharedVolumes\": true,\n",
       "        \"shmSize\": null\n",
       "    },\n",
       "    \"environmentVariables\": {\n",
       "        \"EXAMPLE_ENV_VAR\": \"EXAMPLE_VALUE\"\n",
       "    },\n",
       "    \"inferencingStackVersion\": null,\n",
       "    \"name\": \"regression-env-v1\",\n",
       "    \"python\": {\n",
       "        \"baseCondaEnvironment\": null,\n",
       "        \"condaDependencies\": {\n",
       "            \"channels\": [\n",
       "                \"anaconda\",\n",
       "                \"conda-forge\"\n",
       "            ],\n",
       "            \"dependencies\": [\n",
       "                \"python=3.9\",\n",
       "                {\n",
       "                    \"pip\": [\n",
       "                        \"azureml-defaults\",\n",
       "                        \"pandas==2.2.2\",\n",
       "                        \"numpy==1.26.4\",\n",
       "                        \"joblib==1.2.0\",\n",
       "                        \"scikit-learn==1.2.0\"\n",
       "                    ]\n",
       "                }\n",
       "            ],\n",
       "            \"name\": \"project_environment\"\n",
       "        },\n",
       "        \"condaDependenciesFile\": null,\n",
       "        \"interpreterPath\": \"python\",\n",
       "        \"userManagedDependencies\": false\n",
       "    },\n",
       "    \"r\": null,\n",
       "    \"spark\": {\n",
       "        \"packages\": [],\n",
       "        \"precachePackages\": true,\n",
       "        \"repositories\": []\n",
       "    },\n",
       "    \"version\": \"1\"\n",
       "}"
      ]
     },
     "execution_count": 26,
     "metadata": {},
     "output_type": "execute_result"
    }
   ],
   "source": [
    "from azureml.core.environment import Environment\n",
    "from azureml.core.conda_dependencies import CondaDependencies\n",
    "\n",
    "env = Environment(\"regression-env-v1\")\n",
    "deps = CondaDependencies()\n",
    "deps.set_python_version(\"3.9\")\n",
    "\n",
    "deps.add_pip_package(\"azureml-defaults\")\n",
    "deps.add_pip_package(\"pandas==2.2.2\")\n",
    "deps.add_pip_package(\"numpy==1.26.4\")\n",
    "deps.add_pip_package(\"joblib==1.2.0\")\n",
    "deps.add_pip_package(\"scikit-learn==1.2.0\")  \n",
    "env.python.conda_dependencies = deps\n",
    "env.register(workspace=ws)\n"
   ]
  },
  {
   "cell_type": "code",
   "execution_count": 27,
   "metadata": {},
   "outputs": [
    {
     "name": "stderr",
     "output_type": "stream",
     "text": [
      "/var/folders/7b/g3f6kzfd1b99b918vd8tvd100000gn/T/ipykernel_48247/1706559560.py:7: FutureWarning: azureml.core.model:\n",
      "To leverage new model deployment capabilities, AzureML recommends using CLI/SDK v2 to deploy models as online endpoint, \n",
      "please refer to respective documentations \n",
      "https://docs.microsoft.com/azure/machine-learning/how-to-deploy-managed-online-endpoints /\n",
      "https://docs.microsoft.com/azure/machine-learning/how-to-attach-kubernetes-anywhere \n",
      "For more information on migration, see https://aka.ms/acimoemigration \n",
      "To disable CLI/SDK v1 deprecation warning set AZUREML_LOG_DEPRECATION_WARNING_ENABLED to 'False'\n",
      "  service = Model.deploy(\n"
     ]
    }
   ],
   "source": [
    "from azureml.core.model import InferenceConfig, Model\n",
    "from azureml.core.webservice import AciWebservice\n",
    "\n",
    "inference_config = InferenceConfig(environment=env,entry_script=\"score.py\",)\n",
    "aci_config = AciWebservice.deploy_configuration(cpu_cores=0.5, memory_gb=1)\n",
    "\n",
    "service = Model.deploy(\n",
    "    workspace=ws,\n",
    "    name='regression-service-v1',\n",
    "    models=[registered_model],\n",
    "    inference_config=inference_config,\n",
    "    deployment_config=aci_config,\n",
    "    overwrite=True,\n",
    ")"
   ]
  },
  {
   "cell_type": "code",
   "execution_count": 28,
   "metadata": {},
   "outputs": [
    {
     "name": "stdout",
     "output_type": "stream",
     "text": [
      "Tips: You can try get_logs(): https://aka.ms/debugimage#dockerlog or local deployment: https://aka.ms/debugimage#debug-locally to debug if deployment takes longer than 10 minutes.\n",
      "Running\n",
      "2025-04-23 22:24:00-06:00 Creating Container Registry if not exists.\n",
      "2025-04-23 22:24:01-06:00 Use the existing image.\n",
      "2025-04-23 22:24:01-06:00 Generating deployment configuration.\n",
      "2025-04-23 22:24:03-06:00 Submitting deployment to compute.\n",
      "2025-04-23 22:24:06-06:00 Checking the status of deployment regression-service-v1..\n",
      "2025-04-23 22:28:48-06:00 Checking the status of inference endpoint regression-service-v1.\n",
      "Succeeded\n",
      "ACI service creation operation finished, operation \"Succeeded\"\n"
     ]
    }
   ],
   "source": [
    "service.wait_for_deployment(show_output=True)"
   ]
  },
  {
   "cell_type": "code",
   "execution_count": 29,
   "metadata": {},
   "outputs": [],
   "source": [
    "scoring_uri = service.scoring_uri\n",
    "#print(f\"URI del servicio: {scoring_uri}\")"
   ]
  },
  {
   "cell_type": "code",
   "execution_count": 31,
   "metadata": {},
   "outputs": [],
   "source": [
    "scoreuri = json.dumps({\"URI\": [scoring_uri]})\n",
    "file = open(\"uri.json\", \"w\")\n",
    "file.write(scoreuri)\n",
    "file.close()"
   ]
  }
 ],
 "metadata": {
  "kernelspec": {
   "display_name": "Python 3",
   "language": "python",
   "name": "python3"
  },
  "language_info": {
   "codemirror_mode": {
    "name": "ipython",
    "version": 3
   },
   "file_extension": ".py",
   "mimetype": "text/x-python",
   "name": "python",
   "nbconvert_exporter": "python",
   "pygments_lexer": "ipython3",
   "version": "3.9.7"
  }
 },
 "nbformat": 4,
 "nbformat_minor": 2
}
